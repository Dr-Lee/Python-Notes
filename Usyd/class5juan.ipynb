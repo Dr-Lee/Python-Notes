{
 "metadata": {
  "name": "",
  "signature": "sha256:c42408b37294e349ff79d94f414e88956d3b4158e7aae8c4092f978ca9e71720"
 },
 "nbformat": 3,
 "nbformat_minor": 0,
 "worksheets": [
  {
   "cells": [
    {
     "cell_type": "code",
     "collapsed": false,
     "input": [
      "%pwd\n",
      "%cd /home/juan_yao/Workspace/Notes/Usyd"
     ],
     "language": "python",
     "metadata": {},
     "outputs": [
      {
       "output_type": "stream",
       "stream": "stdout",
       "text": [
        "/home/juan_yao/Workspace/Notes/Usyd\n"
       ]
      }
     ],
     "prompt_number": 2
    },
    {
     "cell_type": "code",
     "collapsed": false,
     "input": [
      "%ls"
     ],
     "language": "python",
     "metadata": {},
     "outputs": [
      {
       "output_type": "stream",
       "stream": "stdout",
       "text": [
        "\u001b[0m\u001b[01;32m0. Python Basics.ipynb\u001b[0m*\r\n",
        "\u001b[01;32m1. IPython Notebook Basics.ipynb\u001b[0m*\r\n",
        "\u001b[01;32m2. Linear Models.ipynb\u001b[0m*\r\n",
        "\u001b[01;32m3. Arrays and Matrices (NumPy).ipynb\u001b[0m*\r\n",
        "\u001b[01;32m4. Basic Functions and Numerical Indexing.ipynb\u001b[0m*\r\n",
        "\u001b[01;32m4. Basic Functions and Numerical Indexing-Juan.ipynb\u001b[0m*\r\n",
        "\u001b[01;32m5. Importing and Exporting Data.ipynb\u001b[0m*\r\n",
        "\u001b[01;32m5. Importing and Exporting Data-juanCopy0.ipynb\u001b[0m*\r\n",
        "5. Importing and Exporting Data-Peilin.ipynb\r\n",
        "\u001b[34;42mData\u001b[0m/\r\n",
        "\u001b[01;32mProject_BattleShip_Exercise.ipynb\u001b[0m*\r\n",
        "\u001b[01;32mProject_BattleShip.ipynb\u001b[0m*\r\n",
        "Untitled0.ipynb\r\n",
        "Untitled1.ipynb\r\n"
       ]
      }
     ],
     "prompt_number": 4
    },
    {
     "cell_type": "code",
     "collapsed": false,
     "input": [
      "from pandas import read_excel\n",
      "my_data = read_excel('/home/juan_yao/Workspace/Notes/Usyd/Data/FTSE_1984_2012.xlsx')\n",
      "\n",
      "print my_data.describe()\n",
      "print my_data.head()"
     ],
     "language": "python",
     "metadata": {},
     "outputs": [
      {
       "output_type": "stream",
       "stream": "stdout",
       "text": [
        "              Open         High          Low        Close        Volume  \\\n",
        "count  7042.000000  7042.000000  7042.000000  7042.000000  7.042000e+03   \n",
        "mean   3990.036751  4016.668148  3962.511531  3990.306248  4.603651e+08   \n",
        "std    1680.980893  1695.162316  1666.069690  1680.754693  7.044943e+08   \n",
        "min     983.800000   991.100000   978.700000   986.900000  0.000000e+00   \n",
        "25%    2396.775000  2407.500000  2386.125000  2397.825000  0.000000e+00   \n",
        "50%    4129.200000  4172.100000  4081.550000  4129.800000  0.000000e+00   \n",
        "75%    5528.100000  5562.100000  5487.125000  5528.100000  1.026724e+09   \n",
        "max    6930.200000  6950.600000  6835.900000  6930.200000  2.758104e+09   \n",
        "\n",
        "         Adj Close  \n",
        "count  7042.000000  \n",
        "mean   3990.306248  \n",
        "std    1680.754693  \n",
        "min     986.900000  \n",
        "25%    2397.825000  \n",
        "50%    4129.800000  \n",
        "75%    5528.100000  \n",
        "max    6930.200000  \n",
        "        Date    Open    High     Low   Close     Volume  Adj Close\n",
        "0 2012-02-15  5899.9  5923.8  5880.6  5892.2  801550000     5892.2\n",
        "1 2012-02-14  5905.7  5920.6  5877.2  5899.9  832567200     5899.9\n",
        "2 2012-02-13  5852.4  5920.1  5852.4  5905.7  643543000     5905.7\n",
        "3 2012-02-10  5895.5  5895.5  5839.9  5852.4  948790200     5852.4\n",
        "4 2012-02-09  5875.9  5916.3  5870.5  5895.5  973462200     5895.5\n"
       ]
      }
     ],
     "prompt_number": 9
    },
    {
     "cell_type": "code",
     "collapsed": false,
     "input": [
      "from pandas import Series\n",
      "s = Series([0.1,0.2,1.3,1.4,2.5])\n",
      "print s,type(s)\n",
      "\n",
      "a= array([0.1,0.2,1.3,1.4,2.5])\n",
      "s = Series(a)\n",
      "print s, type(s)\n",
      "\n",
      "#di\n",
      "b = {1:0.1,2:0.2,3:0.3}\n",
      "s = Series(b)\n",
      "\n",
      "b = {\"cat\":0.1,\"dog\":0.2,\"yoyo\":0.3}\n",
      "s = Series(b)\n",
      "print s\n",
      "print s.values\n"
     ],
     "language": "python",
     "metadata": {},
     "outputs": [
      {
       "output_type": "stream",
       "stream": "stdout",
       "text": [
        "0    0.1\n",
        "1    0.2\n",
        "2    1.3\n",
        "3    1.4\n",
        "4    2.5\n",
        "dtype: float64 <class 'pandas.core.series.Series'>\n",
        "0    0.1\n",
        "1    0.2\n",
        "2    1.3\n",
        "3    1.4\n",
        "4    2.5\n",
        "dtype: float64 <class 'pandas.core.series.Series'>\n",
        "cat     0.1\n",
        "dog     0.2\n",
        "yoyo    0.3\n",
        "dtype: float64\n",
        "[ 0.1  0.2  0.3]\n"
       ]
      }
     ],
     "prompt_number": 6
    },
    {
     "cell_type": "code",
     "collapsed": false,
     "input": [
      "s= Series([0.1,2,3], index=[\"a\", \"b\", \"c\"])\n",
      "print s"
     ],
     "language": "python",
     "metadata": {},
     "outputs": [
      {
       "output_type": "stream",
       "stream": "stdout",
       "text": [
        "a    0.1\n",
        "b    2.0\n",
        "c    3.0\n",
        "dtype: float64\n"
       ]
      }
     ],
     "prompt_number": 15
    },
    {
     "cell_type": "code",
     "collapsed": false,
     "input": [
      "print s['a']\n",
      "print s[0]\n",
      "print s[[0,2]]\n",
      "print s[:2]\n",
      "\n",
      "print s[s>1]"
     ],
     "language": "python",
     "metadata": {},
     "outputs": [
      {
       "output_type": "stream",
       "stream": "stdout",
       "text": [
        "0.1\n",
        "0.1\n",
        "a    0.1\n",
        "c    3.0\n",
        "dtype: float64\n",
        "a    0.1\n",
        "b    2.0\n",
        "dtype: float64\n",
        "b    2\n",
        "c    3\n",
        "dtype: float64\n"
       ]
      }
     ],
     "prompt_number": 17
    },
    {
     "cell_type": "code",
     "collapsed": false,
     "input": [
      "s1 = Series({'a': 0.1, 'b':1.2, 'c': 2.3})\n",
      "s2 = Series({'a': 1.0, 'b':2.0, 'c': 3.0})\n",
      "s3 = Series({'c': 0.1, 'd':1.2, 'e': 2.3})\n",
      "\n",
      "print s1 + s3\n",
      "print s1+s2\n",
      "print s1*s3"
     ],
     "language": "python",
     "metadata": {},
     "outputs": [
      {
       "output_type": "stream",
       "stream": "stdout",
       "text": [
        "a    NaN\n",
        "b    NaN\n",
        "c    2.4\n",
        "d    NaN\n",
        "e    NaN\n",
        "dtype: float64\n",
        "a    1.1\n",
        "b    3.2\n",
        "c    5.3\n",
        "dtype: float64\n",
        "a     NaN\n",
        "b     NaN\n",
        "c    0.23\n",
        "d     NaN\n",
        "e     NaN\n",
        "dtype: float64\n"
       ]
      }
     ],
     "prompt_number": 22
    },
    {
     "cell_type": "code",
     "collapsed": false,
     "input": [
      "s1 = Series([1.0, 2, 3])\n",
      "print s1.values, type(s1.values)\n",
      "print s1.index, type(s1.index)\n",
      "print s1.index.values, type(s1.index.values)\n",
      "\n",
      "s1.index = ['cat', 'dog', 'elephant']\n",
      "print s1.index.values,type(s2.index.values)\n"
     ],
     "language": "python",
     "metadata": {},
     "outputs": [
      {
       "output_type": "stream",
       "stream": "stdout",
       "text": [
        "[ 1.  2.  3.] <type 'numpy.ndarray'>\n",
        "Int64Index([0, 1, 2], dtype='int64') <class 'pandas.core.index.Int64Index'>\n",
        "[0 1 2] <type 'numpy.ndarray'>\n",
        "['cat' 'dog' 'elephant'] <type 'numpy.ndarray'>\n"
       ]
      }
     ],
     "prompt_number": 28
    },
    {
     "cell_type": "code",
     "collapsed": false,
     "input": [],
     "language": "python",
     "metadata": {},
     "outputs": []
    },
    {
     "cell_type": "code",
     "collapsed": false,
     "input": [
      "def peilin(x):\n",
      "    return x**2\n",
      "a = peilin(50)\n",
      "print a\n",
      "\n",
      "#class:numpy\n",
      "#method:numpy.array()\n",
      "#property:math.pi\n",
      "#object: b = numpy.arrary([1,2])"
     ],
     "language": "python",
     "metadata": {},
     "outputs": [
      {
       "output_type": "stream",
       "stream": "stdout",
       "text": [
        "2500\n"
       ]
      }
     ],
     "prompt_number": 30
    },
    {
     "cell_type": "code",
     "collapsed": false,
     "input": [
      "from pandas import Series\n",
      "s1 = Series(rand(10))\n",
      "print s1.head()\n",
      "s1[2] = nan\n",
      "print s1.isnull().head()\n",
      "s2 = s1[s1.notnull()]\n",
      "print s2.head\n",
      "print s2.head()\n",
      "\n",
      "s2.index = arange(0,9)\n",
      "print s2"
     ],
     "language": "python",
     "metadata": {},
     "outputs": [
      {
       "output_type": "stream",
       "stream": "stdout",
       "text": [
        "0    0.785946\n",
        "1    0.710066\n",
        "2    0.064097\n",
        "3    0.058056\n",
        "4    0.926812\n",
        "dtype: float64\n",
        "0    False\n",
        "1    False\n",
        "2     True\n",
        "3    False\n",
        "4    False\n",
        "dtype: bool\n",
        "<bound method Series.head of 0    0.785946\n",
        "1    0.710066\n",
        "3    0.058056\n",
        "4    0.926812\n",
        "5    0.313828\n",
        "6    0.868211\n",
        "7    0.415683\n",
        "8    0.320178\n",
        "9    0.248224\n",
        "dtype: float64>\n",
        "0    0.785946\n",
        "1    0.710066\n",
        "3    0.058056\n",
        "4    0.926812\n",
        "5    0.313828\n",
        "dtype: float64\n",
        "0    0.785946\n",
        "1    0.710066\n",
        "2    0.058056\n",
        "3    0.926812\n",
        "4    0.313828\n",
        "5    0.868211\n",
        "6    0.415683\n",
        "7    0.320178\n",
        "8    0.248224\n",
        "dtype: float64\n"
       ]
      }
     ],
     "prompt_number": 7
    },
    {
     "cell_type": "code",
     "collapsed": false,
     "input": [
      "s1 = Series(arange(1.0,6), index=['a','a','b','c','d'])\n",
      "print s1\n",
      "print s1.drop('a')\n",
      "s1['d'] = nan\n",
      "s2 = s1.dropna()\n",
      "print s2"
     ],
     "language": "python",
     "metadata": {},
     "outputs": [
      {
       "output_type": "stream",
       "stream": "stdout",
       "text": [
        "a    1\n",
        "a    2\n",
        "b    3\n",
        "c    4\n",
        "d    5\n",
        "dtype: float64\n",
        "b    3\n",
        "c    4\n",
        "d    5\n",
        "dtype: float64\n",
        "a    1\n",
        "a    2\n",
        "b    3\n",
        "c    4\n",
        "dtype: float64\n"
       ]
      }
     ],
     "prompt_number": 11
    },
    {
     "cell_type": "code",
     "collapsed": false,
     "input": [
      "s1 = Series(arange(1.0,6), index=['a','a','b','c','d'])\n",
      "s1['d'] = nan\n",
      "s1['a'] = nan\n",
      "print s1\n",
      "s2 = s1.fillna(-999)\n",
      "print s2\n",
      "s2 = s2.replace(-999,nan)\n",
      "print s2"
     ],
     "language": "python",
     "metadata": {},
     "outputs": [
      {
       "output_type": "stream",
       "stream": "stdout",
       "text": [
        "a   NaN\n",
        "a   NaN\n",
        "b     3\n",
        "c     4\n",
        "d   NaN\n",
        "dtype: float64\n",
        "a   -999\n",
        "a   -999\n",
        "b      3\n",
        "c      4\n",
        "d   -999\n",
        "dtype: float64\n",
        "a   NaN\n",
        "a   NaN\n",
        "b     3\n",
        "c     4\n",
        "d   NaN\n",
        "dtype: float64\n"
       ]
      }
     ],
     "prompt_number": 16
    },
    {
     "cell_type": "code",
     "collapsed": false,
     "input": [
      "from pandas import DataFrame\n",
      "\n",
      "data = array([[1,2,3],\n",
      "             [4,5,6],\n",
      "             [7,8,9]])\n",
      "df = DataFrame(data, columns=['x1','x2','x3'])\n",
      "names = df.columns, type(names)\n",
      "\n",
      "print names\n",
      "\n",
      "df.columns = \n",
      "\n",
      "\n",
      "print df\n"
     ],
     "language": "python",
     "metadata": {},
     "outputs": [
      {
       "output_type": "stream",
       "stream": "stdout",
       "text": [
        "(Index([u'x1', u'x2', u'x3'], dtype='object'), <class 'pandas.core.index.Index'>)\n",
        "   x1  x2  x3\n",
        "0   1   2   3\n",
        "1   4   5   6\n",
        "2   7   8   9\n"
       ]
      }
     ],
     "prompt_number": 22
    },
    {
     "cell_type": "code",
     "collapsed": false,
     "input": [
      "from pandas import read_excel\n",
      "state_gdp = read_excel('/home/juan_yao/Workspace/Notes/Usyd/Data/US_state_GDP.xls')\n",
      "print state_gdp.head()"
     ],
     "language": "python",
     "metadata": {},
     "outputs": [
      {
       "output_type": "stream",
       "stream": "stdout",
       "text": [
        "  state_code       state  gdp_2009  gdp_2010  gdp_2011  gdp_2012  \\\n",
        "0         AK      Alaska     44215     43472     44232     44732   \n",
        "1         AL     Alabama    149843    153839    155390    157272   \n",
        "2         AR    Arkansas     89776     92075     92684     93892   \n",
        "3         AZ     Arizona    221405    221016    224787    230641   \n",
        "4         CA  California   1667152   1672473   1692301   1751002   \n",
        "\n",
        "   gdp_growth_2009  gdp_growth_2010  gdp_growth_2011  gdp_growth_2012 region  \n",
        "0              7.7             -1.7              1.7              1.1     FW  \n",
        "1             -3.9              2.7              1.0              1.2     SE  \n",
        "2             -2.0              2.6              0.7              1.3     SE  \n",
        "3             -8.2             -0.2              1.7              2.6     SW  \n",
        "4             -5.1              0.3              1.2              3.5     FW  \n"
       ]
      }
     ],
     "prompt_number": 3
    },
    {
     "cell_type": "code",
     "collapsed": false,
     "input": [
      "a = state_gdp[['state_code','state']].head()\n",
      "a= state_gdp[[1,2]].head()\n",
      "print a, type(a)\n",
      "print state_gdp.state.head()\n",
      "\n"
     ],
     "language": "python",
     "metadata": {},
     "outputs": [
      {
       "output_type": "stream",
       "stream": "stdout",
       "text": [
        "        state  gdp_2009\n",
        "0      Alaska     44215\n",
        "1     Alabama    149843\n",
        "2    Arkansas     89776\n",
        "3     Arizona    221405\n",
        "4  California   1667152 <class 'pandas.core.frame.DataFrame'>\n",
        "0        Alaska\n",
        "1       Alabama\n",
        "2      Arkansas\n",
        "3       Arizona\n",
        "4    California\n",
        "Name: state, dtype: object\n"
       ]
      }
     ],
     "prompt_number": 15
    },
    {
     "cell_type": "code",
     "collapsed": false,
     "input": [
      "print state_gdp[[0,1]][1:3]\n"
     ],
     "language": "python",
     "metadata": {},
     "outputs": [
      {
       "output_type": "stream",
       "stream": "stdout",
       "text": [
        "  state_code     state\n",
        "1         AL   Alabama\n",
        "2         AR  Arkansas\n"
       ]
      }
     ],
     "prompt_number": 19
    },
    {
     "cell_type": "code",
     "collapsed": false,
     "input": [
      "regress2 = state_gdp[10:20][[1,3,7,10]]\n",
      "print regress2"
     ],
     "language": "python",
     "metadata": {},
     "outputs": [
      {
       "output_type": "stream",
       "stream": "stdout",
       "text": [
        "            state  gdp_2010  gdp_growth_2010 region\n",
        "10        Georgia    358843              1.4     SE\n",
        "11         Hawaii     59673              3.1     FW\n",
        "12           Iowa    124011              1.9     PL\n",
        "13          Idaho     50734              1.6     RM\n",
        "14       Illinois    571228              1.8     GL\n",
        "15        Indiana    241927              6.4     GL\n",
        "16         Kansas    113324              2.6     PL\n",
        "17       Kentucky    141977              5.0     SE\n",
        "18      Louisiana    200944              5.8     SE\n",
        "19  Massachusetts    340159              3.8     NE\n"
       ]
      }
     ],
     "prompt_number": 22
    },
    {
     "cell_type": "code",
     "collapsed": false,
     "input": [
      "state_long_recession = state_gdp.gdp_growth_2010<0\n",
      "regress_recession = state_gdp[state_long_recession]\n",
      "print regress_recession.head()\n",
      "\n",
      "\n"
     ],
     "language": "python",
     "metadata": {},
     "outputs": [
      {
       "output_type": "stream",
       "stream": "stdout",
       "text": [
        "   state_code    state  gdp_2009  gdp_2010  gdp_2011  gdp_2012  \\\n",
        "0          AK   Alaska     44215     43472     44232     44732   \n",
        "3          AZ  Arizona    221405    221016    224787    230641   \n",
        "33         NV   Nevada    110001    109610    111574    113197   \n",
        "50         WY  Wyoming     32439     32004     31231     31302   \n",
        "\n",
        "    gdp_growth_2009  gdp_growth_2010  gdp_growth_2011  gdp_growth_2012 region  \n",
        "0               7.7             -1.7              1.7              1.1     FW  \n",
        "3              -8.2             -0.2              1.7              2.6     SW  \n",
        "33             -8.2             -0.4              1.8              1.5     FW  \n",
        "50              3.4             -1.3             -2.4              0.2     RM  \n"
       ]
      }
     ],
     "prompt_number": 24
    },
    {
     "cell_type": "code",
     "collapsed": false,
     "input": [
      "print state_gdp[state_gdp.gdp_2009>100000][state_gdp.gdp_2010>100000].head()"
     ],
     "language": "python",
     "metadata": {},
     "outputs": [
      {
       "output_type": "stream",
       "stream": "stdout",
       "text": [
        "   state_code        state  gdp_2009  gdp_2010  gdp_2011  gdp_2012  \\\n",
        "1         AL      Alabama    149843    153839    155390    157272   \n",
        "3         AZ      Arizona    221405    221016    224787    230641   \n",
        "4         CA   California   1667152   1672473   1692301   1751002   \n",
        "5         CO     Colorado    225984    230976    234929    239884   \n",
        "6         CT  Connecticut    195237    197613    197452    197202   \n",
        "\n",
        "   gdp_growth_2009  gdp_growth_2010  gdp_growth_2011  gdp_growth_2012 region  \n",
        "1             -3.9              2.7              1.0              1.2     SE  \n",
        "3             -8.2             -0.2              1.7              2.6     SW  \n",
        "4             -5.1              0.3              1.2              3.5     FW  \n",
        "5             -2.2              2.2              1.7              2.1     RM  \n",
        "6             -3.6              1.2             -0.1             -0.1     NE  \n"
       ]
      },
      {
       "output_type": "stream",
       "stream": "stderr",
       "text": [
        "/usr/lib/python2.7/dist-packages/pandas/core/frame.py:1706: UserWarning: Boolean Series key will be reindexed to match DataFrame index.\n",
        "  \"DataFrame index.\", UserWarning)\n"
       ]
      }
     ],
     "prompt_number": 29
    }
   ],
   "metadata": {}
  }
 ]
}