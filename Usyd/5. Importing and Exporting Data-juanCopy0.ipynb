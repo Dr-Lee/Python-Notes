{
 "metadata": {
  "name": "",
  "signature": "sha256:2485e2606226f1b5bcd700ad1de50819ddc5bdde77f213669d61155c41c1775a"
 },
 "nbformat": 3,
 "nbformat_minor": 0,
 "worksheets": [
  {
   "cells": [
    {
     "cell_type": "markdown",
     "metadata": {},
     "source": [
      "# 1. Importing Data using Pandas\n",
      "\n",
      "Pandas is a high-performance module that provides a comprehensive set of structures for working with data. \n",
      "\n",
      "Pandas is an increasingly important component of the Python scientific stack. All of the data readers in pandas load data into a pandas\n",
      "DataFrame, and so these examples all make use of the values property to extract a NumPy array. \n",
      "\n",
      "Pandas excels at handling structured data, such as data sets containing many variables, working with missing values and merging across multiple data sets. While extremely useful, pandas is not an essential component of the Python scientific stack unlike NumPy, SciPy or matplotlib, and so while pandas doesn\u2019t make data analysis possible in Python, it makes it much easier. \n",
      "\n",
      "Pandas also provides high-performance, robust methods for importing from and exporting to a wide range of formats. In practice, the DataFrame is much more useful since it includes useful information such as column names and read from the data source. \n",
      "\n",
      "In addition to the three formats presented here, pandas can\n",
      "also read json, SQL, html tables or from the clipboard, which is particularly useful for interactive work with Excel, since virtually any source that can be copied to the clipboard can be imported."
     ]
    },
    {
     "cell_type": "markdown",
     "metadata": {},
     "source": [
      "## 1.1 CSV and other formatted text files\n",
      "\n",
      "Comma-separated value (CSV) files can be read using read_csv . When the CSV file contains mixed data, the default behavior will read the file into an array with an object data type, and so further processing is usually required to extract the individual series."
     ]
    },
    {
     "cell_type": "code",
     "collapsed": false,
     "input": [
      "import pandas as pd\n",
      "%pwd\n",
      "#%cd /home/peter/Workspace/Notes/Usyd/Data\n",
      "#%ls\n",
      "csv_data = pd.read_csv(\"/home/juan_yao/Workspace/Notes/Usyd/Data/FTSE_1984_2012.csv\")\n",
      "\n",
      "print type(csv_data)\n",
      "\n",
      "print csv_data.values"
     ],
     "language": "python",
     "metadata": {},
     "outputs": [
      {
       "output_type": "stream",
       "stream": "stdout",
       "text": [
        "<class 'pandas.core.frame.DataFrame'>\n",
        "[['2012-02-15' 5899.9 5923.8 ..., 5892.2 801550000 5892.2]\n",
        " ['2012-02-14' 5905.7 5920.6 ..., 5899.9 832567200 5899.9]\n",
        " ['2012-02-13' 5852.4 5920.1 ..., 5905.7 643543000 5905.7]\n",
        " ..., \n",
        " ['1984-04-04' 1095.4 1095.4 ..., 1095.4 0 1095.4]\n",
        " ['1984-04-03' 1095.4 1095.4 ..., 1095.4 0 1095.4]\n",
        " ['1984-04-02' 1108.1 1108.1 ..., 1108.1 0 1108.1]]\n"
       ]
      }
     ],
     "prompt_number": 6
    },
    {
     "cell_type": "markdown",
     "metadata": {},
     "source": [
      "When the entire file is numeric, the data will be stored as a homogeneous array using one of the numeric data types, typically float64. In this example, the first column contains Excel dates as numbers, which are\n",
      "the number of days past January 1, 1900."
     ]
    },
    {
     "cell_type": "code",
     "collapsed": false,
     "input": [
      "csv_data = pd.read_csv(\"/home/peter/Workspace/Notes/Usyd/Data/FTSE_1984_2012_numeric.csv\")\n",
      "csv_data = csv_data.values\n",
      "print csv_data[:5, :2]"
     ],
     "language": "python",
     "metadata": {},
     "outputs": [
      {
       "output_type": "stream",
       "stream": "stdout",
       "text": [
        "[[ 40954.    5899.9]\n",
        " [ 40953.    5905.7]\n",
        " [ 40952.    5852.4]\n",
        " [ 40949.    5895.5]\n",
        " [ 40948.    5875.9]]\n"
       ]
      }
     ],
     "prompt_number": 14
    },
    {
     "cell_type": "markdown",
     "metadata": {},
     "source": [
      "## 1.2 Excel files\n",
      "\n",
      "Excel files, both 97/2003 (xls) and 2007/10/13 (xlsx), can be imported using read_excel . \n",
      "Two inputs are required to use read_excel , the filename and the sheet name containing the data. In this example, pandas makes use of the information in the Excel workbook that the first column contains dates and converts these to *datetime*s. Like the mixed CSV data, the array returned has object data type."
     ]
    },
    {
     "cell_type": "code",
     "collapsed": false,
     "input": [
      "import pandas as pd\n",
      "\n",
      "# by default Pandas reads in the first sheet\n",
      "excel_data = pd.read_excel(\"/home/juan_yao/Workspace/Notes/Usyd/Data/FTSE_1984_2012.xlsx\")\n",
      "excel_data = excel_data.values\n",
      "print excel_data[:5,:2]"
     ],
     "language": "python",
     "metadata": {},
     "outputs": [
      {
       "output_type": "stream",
       "stream": "stdout",
       "text": [
        "[[Timestamp('2012-02-15 00:00:00') 5899.9]\n",
        " [Timestamp('2012-02-14 00:00:00') 5905.7]\n",
        " [Timestamp('2012-02-13 00:00:00') 5852.4]\n",
        " [Timestamp('2012-02-10 00:00:00') 5895.5]\n",
        " [Timestamp('2012-02-09 00:00:00') 5875.9]]\n"
       ]
      }
     ],
     "prompt_number": 14
    },
    {
     "cell_type": "markdown",
     "metadata": {},
     "source": [
      "## 1.3 Stata Files"
     ]
    },
    {
     "cell_type": "code",
     "collapsed": false,
     "input": [
      "import pandas as pd\n",
      "\n",
      "stata_data = pd.read_stata(\"/home/juan_yao/Workspace/Notes/Usyd/Data/FTSE_1984_2012.dta\")\n",
      "#stata_data = stata_data.values\n",
      "print stata_data.values"
     ],
     "language": "python",
     "metadata": {},
     "outputs": [
      {
       "output_type": "stream",
       "stream": "stdout",
       "text": [
        "[[  0.00000000e+00   4.09540000e+04   5.89990000e+03 ...,   5.89220000e+03\n",
        "    8.01550000e+08   5.89220000e+03]\n",
        " [  1.00000000e+00   4.09530000e+04   5.90570000e+03 ...,   5.89990000e+03\n",
        "    8.32567200e+08   5.89990000e+03]\n",
        " [  2.00000000e+00   4.09520000e+04   5.85240000e+03 ...,   5.90570000e+03\n",
        "    6.43543000e+08   5.90570000e+03]\n",
        " ..., \n",
        " [  7.03900000e+03   3.07760000e+04   1.09540000e+03 ...,   1.09540000e+03\n",
        "    0.00000000e+00   1.09540000e+03]\n",
        " [  7.04000000e+03   3.07750000e+04   1.09540000e+03 ...,   1.09540000e+03\n",
        "    0.00000000e+00   1.09540000e+03]\n",
        " [  7.04100000e+03   3.07740000e+04   1.10810000e+03 ...,   1.10810000e+03\n",
        "    0.00000000e+00   1.10810000e+03]]\n"
       ]
      }
     ],
     "prompt_number": 17
    },
    {
     "cell_type": "markdown",
     "metadata": {},
     "source": [
      "## 1.4 Matlab data files (.mat)\n",
      "SciPy enables MATLAB data files (mat files) to be read excluding except the latest V7.3 format, which can be read using PyTables or h5py. Data from compatible mat files can be loaded using loadmat . The data is\n",
      "loaded into a dictionary, and individual variables are accessed using the keys of the dictionary."
     ]
    },
    {
     "cell_type": "code",
     "collapsed": false,
     "input": [
      "import scipy.io\n",
      "\n",
      "matData = scipy.io.loadmat(\"/home/peter/Workspace/Notes/Usyd/Data/FTSE_1984_2012.mat\")\n",
      "print type(matData)\n",
      "\n",
      "print matData.keys()\n",
      "\n",
      "open = matData[\"open\"]\n",
      "\n",
      "print open[:5]"
     ],
     "language": "python",
     "metadata": {},
     "outputs": [
      {
       "output_type": "stream",
       "stream": "stdout",
       "text": [
        "<type 'dict'>\n",
        "['volume', '__header__', '__globals__', 'high', 'adjclose', 'low', 'close', '__version__', 'open']\n",
        "[[ 5899.9]\n",
        " [ 5905.7]\n",
        " [ 5852.4]\n",
        " [ 5895.5]\n",
        " [ 5875.9]]\n"
       ]
      }
     ],
     "prompt_number": 28
    },
    {
     "cell_type": "markdown",
     "metadata": {},
     "source": [
      "Matlab data files in the newest V7.3 format can be read using PyTables."
     ]
    },
    {
     "cell_type": "code",
     "collapsed": false,
     "input": [
      "import tables\n",
      "\n",
      "matFile = tables.openFile(\"/home/peter/Workspace/Notes/Usyd/Data/FTSE_1984_2012_v73.mat\")\n",
      "\n",
      "# To find what variables are loaded\n",
      "matFile.root\n",
      "\n",
      "# To load the openning prices\n",
      "matFile.root.open\n",
      "open = matFile.root.open.read()\n",
      "\n",
      "print type(open), open[0, :5]\n",
      "\n",
      "# close the file\n",
      "matFile.close()"
     ],
     "language": "python",
     "metadata": {},
     "outputs": [
      {
       "output_type": "stream",
       "stream": "stdout",
       "text": [
        "<type 'numpy.ndarray'> [ 5899.9  5905.7  5852.4  5895.5  5875.9]\n"
       ]
      }
     ],
     "prompt_number": 41
    },
    {
     "cell_type": "markdown",
     "metadata": {},
     "source": [
      "## 1.5 Loading complex data files\n",
      "\n",
      "Python can be programmed to read any text file format since it contains functions for directly accessing files and parsing strings. \n",
      "\n",
      "Reading poorly formatted data files is an advanced technique and should be\n",
      "avoided if possible. However, some data is only available in formats where reading in data line-by-line is the only option. For example, the standard import methods fail if the raw data is very large (too large for Excel) and is poorly formatted. In this case, the only possibility may be to write a program to read the file line-by-line (or in blocks) and to directly process the raw text.\n",
      "\n",
      "The file IBM_TAQ.txt contains a simple example of data that is difficult to import. This file was downloaded from Wharton Research Data Services and contains all prices for IBM from the TAQ database between January 1, 2001 and January 31, 2001. It is too large to use in Excel and has both numbers, dates and text on each line. \n",
      "\n",
      "The following code block shows one method for importing this data set."
     ]
    },
    {
     "cell_type": "code",
     "collapsed": false,
     "input": [
      "import io\n",
      "\n",
      "f = io.open('/home/juan_yao/Workspace/Notes/Usyd/Data/IBM_TAQ.txt', 'r')\n",
      "\n",
      "# Initiate loading data using line-by-line\n",
      "line = f.readline()\n",
      "line = f.readline()  # Burn the first line as a header\n",
      "\n",
      "date = []\n",
      "time = []\n",
      "price = []\n",
      "volume = []\n",
      "while line:\n",
      "    data = line.split(',')\n",
      "    date.append(int(data[1]))\n",
      "    price.append(float(data[3]))\n",
      "    volume.append(int(data[4]))\n",
      "    t = data[2]\n",
      "    time.append(int(t.replace(':', '')))\n",
      "    line = f.readline() # Burn one more line\n",
      "    \n",
      "# Convert to arrays, which are more useful than lists for numeric data\n",
      "date = array(date)\n",
      "price = array(price)\n",
      "volume = array(volume)\n",
      "time = array(time)\n",
      "\n",
      "allData = array([date, price, volume, time])\n",
      "\n",
      "print allData[0:5, 0:4]\n",
      "\n",
      "f.close()"
     ],
     "language": "python",
     "metadata": {},
     "outputs": [
      {
       "output_type": "stream",
       "stream": "stdout",
       "text": [
        "[[  2.00701030e+07   2.00701030e+07   2.00701030e+07   2.00701030e+07]\n",
        " [  9.71800000e+01   9.66000000e+01   9.71700000e+01   9.71700000e+01]\n",
        " [  1.00000000e+02   3.73200000e+05   1.00000000e+03   1.00000000e+02]\n",
        " [  9.30030000e+04   9.30080000e+04   9.30080000e+04   9.30080000e+04]]\n"
       ]
      }
     ],
     "prompt_number": 19
    },
    {
     "cell_type": "code",
     "collapsed": false,
     "input": [],
     "language": "python",
     "metadata": {},
     "outputs": []
    },
    {
     "cell_type": "markdown",
     "metadata": {},
     "source": [
      "# 2. Data Structures\n",
      "\n",
      "Pandas stores data in a number of structures:\n",
      "- Series: 1-dimensional arrays\n",
      "- DataFrames: Collections of Series and so are 2-dimensional\n",
      "- Panels: Collections of DataFrames and so are 3-dimensional"
     ]
    },
    {
     "cell_type": "markdown",
     "metadata": {},
     "source": [
      "## 2.1 Series\n",
      "\n",
      "Series are the primary building block of the data structures in pandas, and in many ways a Series behaves similarly to a Numpy array. \n",
      "\n",
      "A Series is initialized using a list or tupel, or directly from a NumPy array."
     ]
    },
    {
     "cell_type": "code",
     "collapsed": false,
     "input": [
      "from pandas import Series\n",
      "\n",
      "# List to Series\n",
      "s = Series([0.1, 0.2, 1.3, 1.4, 2.5])\n",
      "print s, type(s)\n",
      "\n",
      "# Array to Series\n",
      "a = array([0.1, 0.2, 1.3, 1.4, 2.5])\n",
      "s = Series(a)\n",
      "print s, type(s)\n",
      "\n",
      "# Dictionary to Series\n",
      "b = {1:0.1, 2:0.2, 3:0.3}\n",
      "s = Series(b)\n",
      "print s"
     ],
     "language": "python",
     "metadata": {},
     "outputs": [
      {
       "output_type": "stream",
       "stream": "stdout",
       "text": [
        "0    0.1\n",
        "1    0.2\n",
        "2    1.3\n",
        "3    1.4\n",
        "4    2.5\n",
        "dtype: float64 <class 'pandas.core.series.Series'>\n",
        "0    0.1\n",
        "1    0.2\n",
        "2    1.3\n",
        "3    1.4\n",
        "4    2.5\n",
        "dtype: float64 <class 'pandas.core.series.Series'>\n",
        "1    0.1\n",
        "2    0.2\n",
        "3    0.3\n",
        "dtype: float64\n"
       ]
      }
     ],
     "prompt_number": 62
    },
    {
     "cell_type": "markdown",
     "metadata": {},
     "source": [
      "Series, like arrays, are sliceable. However, unlike a 1-dimensional array, a Series has an additional column \u2013 an index \u2013 which is a set of values which are associated with the rows of the Series. In this example,\n",
      "pandas has automatically generated an index using the sequence 0, 1, . . . since none was provided. It is also possible to use other values as the index when initializing the Series using a keyword argument."
     ]
    },
    {
     "cell_type": "code",
     "collapsed": false,
     "input": [
      "s = Series([0.1, 0.2, 1.3, 1.4, 2.5], index=[\"a\", \"b\", \"c\", \"d\", \"e\"])\n",
      "print s"
     ],
     "language": "python",
     "metadata": {},
     "outputs": [
      {
       "output_type": "stream",
       "stream": "stdout",
       "text": [
        "a    0.1\n",
        "b    0.2\n",
        "c    1.3\n",
        "d    1.4\n",
        "e    2.5\n",
        "dtype: float64\n"
       ]
      }
     ],
     "prompt_number": 49
    },
    {
     "cell_type": "markdown",
     "metadata": {},
     "source": [
      "The index is part of the \"magic\" of the pandas's data structures (Series and DataFrame) and allows for dictionary-like access to elements in the index (in addition to both numeric slicing and logical indices)."
     ]
    },
    {
     "cell_type": "code",
     "collapsed": false,
     "input": [
      "print s['a']\n",
      "\n",
      "print s[0]\n",
      "\n",
      "print s[[\"a\", 'c']]\n",
      "\n",
      "print s[[0, 2]]\n",
      "\n",
      "print s[:2]\n",
      "\n",
      "print s[s>1]"
     ],
     "language": "python",
     "metadata": {},
     "outputs": [
      {
       "output_type": "stream",
       "stream": "stdout",
       "text": [
        "0.1\n",
        "0.1\n",
        "a    0.1\n",
        "c    1.3\n",
        "dtype: float64\n",
        "a    0.1\n",
        "c    1.3\n",
        "dtype: float64\n",
        "a    0.1\n",
        "b    0.2\n",
        "dtype: float64\n",
        "c    1.3\n",
        "d    1.4\n",
        "e    2.5\n",
        "dtype: float64\n"
       ]
      }
     ],
     "prompt_number": 57
    },
    {
     "cell_type": "markdown",
     "metadata": {},
     "source": [
      "In this examples, \u2019a\u2019 and \u2019c\u2019 behave in the same manner as 0 and 2 would in a standard NumPy array. The elements of an index do not have to be unique which another way in which a Series generalizes a NumPy array."
     ]
    },
    {
     "cell_type": "code",
     "collapsed": false,
     "input": [
      "s = Series([0.1, 1.2, 2.3, 3.4, 4.5], index = ['a','b','c','a','b'])\n",
      "print s\n",
      "\n",
      "print s['a']"
     ],
     "language": "python",
     "metadata": {},
     "outputs": [
      {
       "output_type": "stream",
       "stream": "stdout",
       "text": [
        "a    0.1\n",
        "b    1.2\n",
        "c    2.3\n",
        "a    3.4\n",
        "b    4.5\n",
        "dtype: float64\n",
        "a    0.1\n",
        "a    3.4\n",
        "dtype: float64\n"
       ]
      }
     ],
     "prompt_number": 63
    },
    {
     "cell_type": "markdown",
     "metadata": {},
     "source": [
      "### 2.1.1 Calculations\n",
      "\n",
      "Series are like NumPy arrays in that they support most numerical operations."
     ]
    },
    {
     "cell_type": "code",
     "collapsed": false,
     "input": [
      "s = Series([0.1, 1.2, 2.3, 3.4, 4.5], index = ['a','b','c','a','b'])\n",
      "print s * 2\n",
      "\n",
      "print s - 1"
     ],
     "language": "python",
     "metadata": {},
     "outputs": [
      {
       "output_type": "stream",
       "stream": "stdout",
       "text": [
        "a    0.2\n",
        "b    2.4\n",
        "c    4.6\n",
        "a    6.8\n",
        "b    9.0\n",
        "dtype: float64\n",
        "a   -0.9\n",
        "b    0.2\n",
        "c    1.3\n",
        "a    2.4\n",
        "b    3.5\n",
        "dtype: float64\n"
       ]
      }
     ],
     "prompt_number": 66
    },
    {
     "cell_type": "markdown",
     "metadata": {},
     "source": [
      "However, Series are different from arrays when math operations are performed across two Series. In particular, math operations involving two series operate by aligning indices (merging two Series). \n",
      "\n",
      "The mathematical operation is performed in two steps. First, the union of all indices is created, and then the mathematical operation is performed on matching indices. Indices that do not match are given the value NaN (not a number), and values are computed for all unique pairs of repeated indices."
     ]
    },
    {
     "cell_type": "code",
     "collapsed": false,
     "input": [
      "s1 = Series({'a': 0.1, 'b': 1.2, 'c': 2.3})\n",
      "s2 = Series({'a': 1.0, 'b': 2.0, 'c': 3.0})\n",
      "s3 = Series({'c': 0.1, 'd': 1.2, 'e': 2.3})\n",
      "print s1 + s2\n",
      "\n",
      "print s1 * s2\n",
      "\n",
      "print s1 + s3"
     ],
     "language": "python",
     "metadata": {},
     "outputs": [
      {
       "output_type": "stream",
       "stream": "stdout",
       "text": [
        "a    1.1\n",
        "b    3.2\n",
        "c    5.3\n",
        "dtype: float64\n",
        "a    0.1\n",
        "b    2.4\n",
        "c    6.9\n",
        "dtype: float64\n",
        "a    NaN\n",
        "b    NaN\n",
        "c    2.4\n",
        "d    NaN\n",
        "e    NaN\n",
        "dtype: float64\n"
       ]
      }
     ],
     "prompt_number": 69
    },
    {
     "cell_type": "markdown",
     "metadata": {},
     "source": [
      "Mathematical operations performed on series which have non-unique indices will broadcast the operation to all indices which are common. \n",
      "\n",
      "For example, when one array has 2 elements with the same index, and another has 3, adding the two will produce 6 outputs."
     ]
    },
    {
     "cell_type": "code",
     "collapsed": false,
     "input": [
      "s1 = Series([1.0,2,3],index=['a']*3)\n",
      "s2 = Series([4.0,5],index=['a']*2)\n",
      "\n",
      "print s1 + s2"
     ],
     "language": "python",
     "metadata": {},
     "outputs": [
      {
       "output_type": "stream",
       "stream": "stdout",
       "text": [
        "a    5\n",
        "a    6\n",
        "a    6\n",
        "a    7\n",
        "a    7\n",
        "a    8\n",
        "dtype: float64\n"
       ]
      }
     ],
     "prompt_number": 70
    },
    {
     "cell_type": "markdown",
     "metadata": {},
     "source": [
      "The underlying NumPy array is accessible through the values property, and the index is accessible the index property, which returns an Index type.\n",
      "\n",
      "The NumPy array underlying the index can be retrieved using values on the Index object returned."
     ]
    },
    {
     "cell_type": "code",
     "collapsed": false,
     "input": [
      "s1 = Series([1.0, 2, 3])\n",
      "\n",
      "print s1.values, type(s1.values)\n",
      "\n",
      "print s1.index, type(s1.index)\n",
      "\n",
      "print s1.index.values, type(s1.index.values)\n",
      "\n",
      "s1.index = ['cat', 'dog', 'elephant']\n",
      "print s1.index\n",
      "print s1"
     ],
     "language": "python",
     "metadata": {},
     "outputs": [
      {
       "output_type": "stream",
       "stream": "stdout",
       "text": [
        "[ 1.  2.  3.] <type 'numpy.ndarray'>\n",
        "Int64Index([0, 1, 2], dtype='int64') <class 'pandas.core.index.Int64Index'>\n",
        "[0 1 2] <type 'numpy.ndarray'>\n",
        "Index([u'cat', u'dog', u'elephant'], dtype='object')\n",
        "cat         1\n",
        "dog         2\n",
        "elephant    3\n",
        "dtype: float64\n"
       ]
      }
     ],
     "prompt_number": 76
    },
    {
     "cell_type": "markdown",
     "metadata": {},
     "source": [
      "### 2.1.2 Important methods and properties\n",
      "\n",
      "Series provide a large number of methods to manipulate data. These can broadly be categorized into mathematical and non-math functions. \n",
      "\n",
      "The mathematical functions are generally very similar to those in NumPy due to the underlying structure of a Series.\n",
      "\n",
      "The following list out the non-mathematical methods (which are unique to Pandas)."
     ]
    },
    {
     "cell_type": "markdown",
     "metadata": {},
     "source": [
      "### head and tail\n",
      "\n",
      "head() shows the first 5 rows of a series, and tail() shows the last 5 rows. \n",
      "\n",
      "An optional argument can be used to return a different number of entires, as in head(10)."
     ]
    },
    {
     "cell_type": "code",
     "collapsed": false,
     "input": [
      "s1 = Series(randn(100))\n",
      "print s1.head()\n",
      "print s1.tail(10)"
     ],
     "language": "python",
     "metadata": {},
     "outputs": [
      {
       "output_type": "stream",
       "stream": "stdout",
       "text": [
        "0    0.144643\n",
        "1   -0.212345\n",
        "2    0.345698\n",
        "3    0.138087\n",
        "4   -0.615535\n",
        "dtype: float64\n",
        "90   -0.388346\n",
        "91    0.146574\n",
        "92   -1.723505\n",
        "93   -1.352021\n",
        "94    1.246798\n",
        "95    1.630970\n",
        "96    0.363488\n",
        "97   -0.627546\n",
        "98   -0.688316\n",
        "99    1.048519\n",
        "dtype: float64\n"
       ]
      }
     ],
     "prompt_number": 78
    },
    {
     "cell_type": "markdown",
     "metadata": {},
     "source": [
      "### isnull and notnull\n",
      "\n",
      "isnull() returns a Series with the same indices containning Boolean values indicating True for null values which include NaN and None, among other. \n",
      "\n",
      "notnull() returns the negation of isnull()."
     ]
    },
    {
     "cell_type": "code",
     "collapsed": false,
     "input": [
      "s1[2] = nan\n",
      "print s1[s1.isnull()]\n",
      "print s1[s1.notnull()].head()"
     ],
     "language": "python",
     "metadata": {},
     "outputs": [
      {
       "output_type": "stream",
       "stream": "stdout",
       "text": [
        "2   NaN\n",
        "dtype: float64\n",
        "0    0.144643\n",
        "1   -0.212345\n",
        "3    0.138087\n",
        "4   -0.615535\n",
        "5   -1.738437\n",
        "dtype: float64\n"
       ]
      }
     ],
     "prompt_number": 84
    },
    {
     "cell_type": "markdown",
     "metadata": {},
     "source": [
      "### ix\n",
      "\n",
      "ix is the indexing function which supports selecting individual rows. ix is more useful for DataFrames."
     ]
    },
    {
     "cell_type": "markdown",
     "metadata": {},
     "source": [
      "### describe\n",
      "\n",
      "describe() returns a simple set of summary statistics about a Series. The values returned is a series where the index contains name of the statistics computed."
     ]
    },
    {
     "cell_type": "code",
     "collapsed": false,
     "input": [
      "s1 = Series(arange(10, 20.0))\n",
      "print s1.describe()\n",
      "\n",
      "summ = s1.describe()\n",
      "print summ['mean']"
     ],
     "language": "python",
     "metadata": {},
     "outputs": [
      {
       "output_type": "stream",
       "stream": "stdout",
       "text": [
        "count    10.00000\n",
        "mean     14.50000\n",
        "std       3.02765\n",
        "min      10.00000\n",
        "25%      12.25000\n",
        "50%      14.50000\n",
        "75%      16.75000\n",
        "max      19.00000\n",
        "dtype: float64\n",
        "14.5\n"
       ]
      }
     ],
     "prompt_number": 89
    },
    {
     "cell_type": "markdown",
     "metadata": {},
     "source": [
      "### unique and nunique\n",
      "unique() returns the unique elements of a series and nunique() returns the number of unique values in a Series."
     ]
    },
    {
     "cell_type": "markdown",
     "metadata": {},
     "source": [
      "### drop and dropna\n",
      "\n",
      "drop(*labels*) drop elements with the selected labels from a Series.\n",
      "\n",
      "dropna() only drops null values - NaN or similar."
     ]
    },
    {
     "cell_type": "code",
     "collapsed": false,
     "input": [
      "s1 = Series(arange(1.0, 6), index=['a', 'a', 'b', 'c', 'd'])\n",
      "print s1\n",
      "\n",
      "print s1.drop('a')\n",
      "\n",
      "s1['d'] = nan\n",
      "print s1\n",
      "s2 = s1.dropna()\n",
      "print s2"
     ],
     "language": "python",
     "metadata": {},
     "outputs": [
      {
       "output_type": "stream",
       "stream": "stdout",
       "text": [
        "a    1\n",
        "a    2\n",
        "b    3\n",
        "c    4\n",
        "d    5\n",
        "dtype: float64\n",
        "b    3\n",
        "c    4\n",
        "d    5\n",
        "dtype: float64\n",
        "a     1\n",
        "a     2\n",
        "b     3\n",
        "c     4\n",
        "d   NaN\n",
        "dtype: float64\n",
        "a    1\n",
        "a    2\n",
        "b    3\n",
        "c    4\n",
        "dtype: float64\n"
       ]
      }
     ],
     "prompt_number": 95
    },
    {
     "cell_type": "markdown",
     "metadata": {},
     "source": [
      "### fillna\n",
      "\n",
      "fillna(value) fills all null values in a series with a specific value"
     ]
    },
    {
     "cell_type": "code",
     "collapsed": false,
     "input": [
      "s1 = Series(arange(1.0, 6), index=['a', 'a', 'b', 'c', 'd'])\n",
      "s1['d'] = nan\n",
      "s1['a'] = nan\n",
      "print s1\n",
      "\n",
      "s2 = s1.fillna(-999)\n",
      "print s2"
     ],
     "language": "python",
     "metadata": {},
     "outputs": [
      {
       "output_type": "stream",
       "stream": "stdout",
       "text": [
        "a   NaN\n",
        "a   NaN\n",
        "b     3\n",
        "c     4\n",
        "d   NaN\n",
        "dtype: float64\n",
        "a   -999\n",
        "a   -999\n",
        "b      3\n",
        "c      4\n",
        "d   -999\n",
        "dtype: float64\n"
       ]
      }
     ],
     "prompt_number": 98
    },
    {
     "cell_type": "markdown",
     "metadata": {},
     "source": [
      "### append\n",
      "\n",
      "append(series) appends one series to another, and is similar to list.append."
     ]
    },
    {
     "cell_type": "markdown",
     "metadata": {},
     "source": [
      "### replace\n",
      "\n",
      "replace(list, values) replace a set of values in a Series with a new value. replace is similar to fillna except that replace also replaces non-null values."
     ]
    },
    {
     "cell_type": "markdown",
     "metadata": {},
     "source": [
      "### update\n",
      "\n",
      "update(series) replaces values in a series with those in another series, matching on the index, and is similar to a SQL update operation."
     ]
    },
    {
     "cell_type": "code",
     "collapsed": false,
     "input": [
      "s1 = Series(arange(1, 4.0), index=['a', 'b', 'c'])\n",
      "print s1\n",
      "\n",
      "s2 = Series(-1 * arange(1, 4.0), index=['c', 'd', 'e'])\n",
      "print s2\n",
      "\n",
      "s1.update(s2)\n",
      "print s1"
     ],
     "language": "python",
     "metadata": {},
     "outputs": [
      {
       "output_type": "stream",
       "stream": "stdout",
       "text": [
        "a    1\n",
        "b    2\n",
        "c    3\n",
        "dtype: float64\n",
        "c   -1\n",
        "d   -2\n",
        "e   -3\n",
        "dtype: float64\n",
        "a    1\n",
        "b    2\n",
        "c   -1\n",
        "dtype: float64\n"
       ]
      }
     ],
     "prompt_number": 100
    },
    {
     "cell_type": "markdown",
     "metadata": {},
     "source": [
      "## 2.2 DataFrame\n",
      "\n",
      "While the Series class is the building block of data structures in pandas, the DataFrame is the work-horse. \n",
      "\n",
      "DataFrames collect multiple series in the same way that a spreadsheet collects multiple columns of data. In a simple sense, a DataFrame is like a 2-dimensional NumPy array \u2013 and when all data is numeric and\n",
      "of the same type (e.g. float64), it is virtually indistinguishable. \n",
      "\n",
      "However, a DataFrame is composed of Series and each Series has its own data type, and so not all DataFrames are representable as homogeneous NumPy arrays.\n",
      "\n",
      "A number of methods are available to initialize a DataFrame. The simplest is from a homogeneous NumPy array."
     ]
    },
    {
     "cell_type": "code",
     "collapsed": false,
     "input": [
      "from pandas import DataFrame\n",
      "\n",
      "a = array([[1.0, 2], [3, 4]])\n",
      "df = DataFrame(a)\n",
      "print df"
     ],
     "language": "python",
     "metadata": {},
     "outputs": [
      {
       "output_type": "stream",
       "stream": "stdout",
       "text": [
        "   0  1\n",
        "0  1  2\n",
        "1  3  4\n"
       ]
      }
     ],
     "prompt_number": 102
    },
    {
     "cell_type": "markdown",
     "metadata": {},
     "source": [
      "Like a Series, a DataFrame contains the input data as well as row labels. \n",
      "\n",
      "However, since a DataFrame is a collection of columns, it also contains column labels (located along the top edge). When none are provided, the numeric sequence 0, 1, . . . is used. Column names are entered using a keyword argument or later by assigning to columns ."
     ]
    },
    {
     "cell_type": "code",
     "collapsed": false,
     "input": [
      "df = DataFrame(array([[1.0, 2], [3, 4]]), columns=['a', 'b'])\n",
      "print df"
     ],
     "language": "python",
     "metadata": {},
     "outputs": [
      {
       "output_type": "stream",
       "stream": "stdout",
       "text": [
        "   a  b\n",
        "0  1  2\n",
        "1  3  4\n"
       ]
      }
     ],
     "prompt_number": 105
    },
    {
     "cell_type": "code",
     "collapsed": false,
     "input": [],
     "language": "python",
     "metadata": {},
     "outputs": [],
     "prompt_number": 6
    }
   ],
   "metadata": {}
  }
 ]
}