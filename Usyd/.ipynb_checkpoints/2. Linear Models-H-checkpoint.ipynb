{
 "metadata": {
  "name": "",
  "signature": "sha256:54057299193f4b15c90845bbc2fa3f7571f4023859727716743ad9668828fcd4"
 },
 "nbformat": 3,
 "nbformat_minor": 0,
 "worksheets": [
  {
   "cells": [
    {
     "cell_type": "markdown",
     "metadata": {},
     "source": [
      "Linear Models\n",
      "==\n",
      "Linear models are widely used to help price securities and perform optimal portfolio allocation, among other useful things. \n",
      "\n",
      "One of the significance of linearity in financial modelling is its assurance that a problem terminates at a global optimal solution.\n",
      "\n",
      "Modules such as the **SciPy** and **NumPy** packages contain a variety of linear regression functions for data scientists to work with.\n",
      "\n",
      "In traditional portfolio management, the allocation of assets fllows a linear pattern, and investors have individual styles of investing. We can state the problem of portfolio allocation into a system of linear equations, containning either equalities or inequalities. These linear systems can then be represented in a matrix form as $Ax=B$, where $A$ is the known coefficients, $B$ is the observed result, and $x$ is the vector of values to find out. More often, $x$ contains the optimal security weights to maximize the agent's utility. Using matrix algebra, we can efficiently solve for $x$ using either direct or indirect methods."
     ]
    },
    {
     "cell_type": "markdown",
     "metadata": {},
     "source": [
      "# 1. Multivariate OLS\n",
      "\n",
      "Many Python packages such as **SciPy** come with several variants of regression functions. In particular, the **statsmodels** package is a complement to **SciPy** with descriptive statistics and estimation of statistical models. The official page for **statsmodels** is http://statsmodels.sourceforge.net/\n"
     ]
    },
    {
     "cell_type": "markdown",
     "metadata": {},
     "source": [
      "## Example - Perform OLS and view its summary\n",
      "\n",
      "Let's assume that you have implemented an APT model with seven factors that return the values of $Y$. Consider the following set of data collected over 9 time periods, from $t1$ to $t9$. $X1$ to $X7$ are exogenous variables observed at each period. The regression problem is therefore defined as:\n",
      "$$ Y = \\beta_1X_{1}+\\beta_2X_{2}+\\beta_3X_{3}+\\beta_4X_{4}+\\beta_5X_{5}+\\beta_6X_{6}+\\beta_7X_{7}+\\varepsilon $$"
     ]
    },
    {
     "cell_type": "code",
     "collapsed": false,
     "input": [
      "import numpy as np\n",
      "import statsmodels.api as sm\n",
      "num_periods=9\n",
      "all_values=np.array([np.random.random(9) for i in range(num_periods)])\n",
      "print all_values\n",
      "y=all_values[:,0]\n",
      "x=all_values[:,1:]\n",
      "print y\n",
      "print x\n",
      "model=sm.OLS(y,x)\n",
      "results=model.fit()\n",
      "print results.summary()\n",
      "print results.params\n",
      "\n"
     ],
     "language": "python",
     "metadata": {},
     "outputs": [
      {
       "output_type": "stream",
       "stream": "stdout",
       "text": [
        "[[ 0.39483758  0.48278728  0.15628658  0.12239359  0.19052267  0.44622785\n",
        "   0.739737    0.99522912  0.47026418]\n",
        " [ 0.59237707  0.52099563  0.36711752  0.86879361  0.96520205  0.79177339\n",
        "   0.98012075  0.16312123  0.56427533]\n",
        " [ 0.04693577  0.89109314  0.52687393  0.54549529  0.25759877  0.57978079\n",
        "   0.43258039  0.06375712  0.65881011]\n",
        " [ 0.87171446  0.73484519  0.29362949  0.67245357  0.71019076  0.53893375\n",
        "   0.37720894  0.11024623  0.30698096]\n",
        " [ 0.42304045  0.41623281  0.15097844  0.18439334  0.7774509   0.73073334\n",
        "   0.9937191   0.88162834  0.36653171]\n",
        " [ 0.97582639  0.14065545  0.21399644  0.23765172  0.2943069   0.31175702\n",
        "   0.67089708  0.96710951  0.48750349]\n",
        " [ 0.25161947  0.01252091  0.37453553  0.79702832  0.07368804  0.65132251\n",
        "   0.93332688  0.19261702  0.50008814]\n",
        " [ 0.0669748   0.56036243  0.55237933  0.28256904  0.08721692  0.69382589\n",
        "   0.17949699  0.56440968  0.22332714]\n",
        " [ 0.94078781  0.30297775  0.89861005  0.03528554  0.33347341  0.68767458\n",
        "   0.31753802  0.66022087  0.36445638]]\n",
        "[ 0.39483758  0.59237707  0.04693577  0.87171446  0.42304045  0.97582639\n",
        "  0.25161947  0.0669748   0.94078781]\n",
        "[[ 0.48278728  0.15628658  0.12239359  0.19052267  0.44622785  0.739737\n",
        "   0.99522912  0.47026418]\n",
        " [ 0.52099563  0.36711752  0.86879361  0.96520205  0.79177339  0.98012075\n",
        "   0.16312123  0.56427533]\n",
        " [ 0.89109314  0.52687393  0.54549529  0.25759877  0.57978079  0.43258039\n",
        "   0.06375712  0.65881011]\n",
        " [ 0.73484519  0.29362949  0.67245357  0.71019076  0.53893375  0.37720894\n",
        "   0.11024623  0.30698096]\n",
        " [ 0.41623281  0.15097844  0.18439334  0.7774509   0.73073334  0.9937191\n",
        "   0.88162834  0.36653171]\n",
        " [ 0.14065545  0.21399644  0.23765172  0.2943069   0.31175702  0.67089708\n",
        "   0.96710951  0.48750349]\n",
        " [ 0.01252091  0.37453553  0.79702832  0.07368804  0.65132251  0.93332688\n",
        "   0.19261702  0.50008814]\n",
        " [ 0.56036243  0.55237933  0.28256904  0.08721692  0.69382589  0.17949699\n",
        "   0.56440968  0.22332714]\n",
        " [ 0.30297775  0.89861005  0.03528554  0.33347341  0.68767458  0.31753802\n",
        "   0.66022087  0.36445638]]\n",
        "                            OLS Regression Results                            \n",
        "==============================================================================\n",
        "Dep. Variable:                      y   R-squared:                       0.973\n",
        "Model:                            OLS   Adj. R-squared:                  0.782\n",
        "Method:                 Least Squares   F-statistic:                     5.107\n",
        "Date:                Wed, 24 Jun 2015   Prob (F-statistic):              0.329\n",
        "Time:                        12:23:00   Log-Likelihood:                 13.166\n",
        "No. Observations:                   9   AIC:                            -10.33\n",
        "Df Residuals:                       1   BIC:                            -8.754\n",
        "Df Model:                           7                                         \n",
        "==============================================================================\n",
        "                 coef    std err          t      P>|t|      [95.0% Conf. Int.]\n",
        "------------------------------------------------------------------------------\n",
        "x1             1.2427      0.995      1.249      0.430       -11.395    13.880\n",
        "x2             4.0521      1.572      2.578      0.236       -15.922    24.026\n",
        "x3             1.5125      0.459      3.293      0.188        -4.323     7.349\n",
        "x4             0.7112      0.372      1.913      0.307        -4.011     5.434\n",
        "x5            -5.1114      1.951     -2.619      0.232       -29.907    19.684\n",
        "x6             2.5982      1.731      1.501      0.374       -19.399    24.595\n",
        "x7             1.0405      0.267      3.891      0.160        -2.357     4.438\n",
        "x8            -3.7419      2.151     -1.740      0.332       -31.070    23.586\n",
        "==============================================================================\n",
        "Omnibus:                        1.447   Durbin-Watson:                   0.915\n",
        "Prob(Omnibus):                  0.485   Jarque-Bera (JB):                1.003\n",
        "Skew:                          -0.678   Prob(JB):                        0.606\n",
        "Kurtosis:                       2.085   Cond. No.                         95.4\n",
        "==============================================================================\n",
        "[ 1.24272703  4.05209465  1.51250719  0.71115753 -5.11135799  2.59822028\n",
        "  1.04047556 -3.74191282]\n"
       ]
      }
     ],
     "prompt_number": 11
    },
    {
     "cell_type": "markdown",
     "metadata": {},
     "source": [
      "# 2. Linear Optimization\n",
      "\n",
      "Linear optimization focuses on minimizing or maximizing the value of the objective function. The examples are maximizing returns and minimizing volatility. These objectives are usually governed by certain regulations, such as no short-selling rule, limits on the number of securities to be invested, and so on.\n",
      "\n",
      "A number of packages provide optimization methods. The following example makes use of **PuLP**, an open source linear programming modeller."
     ]
    },
    {
     "cell_type": "markdown",
     "metadata": {},
     "source": [
      "## Example - Linear optimization problem\n",
      "Suppose that we are interested in investing in two securities, $x$ and $y$. We would like to find out the actual number of units to invest for every 3 units of security $x$ and 2 units of security $y$, such that the total number of units invested is maximized, where possible. However, there are certain constraints on our investment strategy:\n",
      "- For every 2 units of security $x$ invested and 1 unit of security $y$ invested, the total volume must not exceed 100.\n",
      "- For every unit of security $x$ and $y$ invested, the total volume must not exceed 80.\n",
      "- The total volume allowed to invest in security $x$ must not exceed 40.\n",
      "- Short selling is not allowed for both the securities.\n",
      "\n",
      "The maximization problem can be mathematically represented as follows:\n",
      "$$ \\max: f(x,y) = 3x+2y $$\n",
      "Subject to:\n",
      "$$ 2x+y<=100 $$\n",
      "$$ x+y<=80 $$\n",
      "$$ x<=40 $$\n",
      "$$ x>=0, y>=0 $$"
     ]
    },
    {
     "cell_type": "code",
     "collapsed": false,
     "input": [
      "import pulp\n",
      "\n",
      "x=pulp.LpVariable(\"x\",lowBound=0)\n",
      "y=pulp.LpVariable(\"y\",lowBound=0)\n",
      "\n",
      "problem = pulp.LpProblem(sense=pulp.LpMaximize)\n",
      "problem += 3*x+2*y \n",
      "problem += 2*x+y<=100\n",
      "problem += x+y<=80\n",
      "problem += x<=40\n",
      "\n",
      "problem.solve()\n",
      "for x in problem.variables():\n",
      "    print x.name, \"=\", x.varValue\n",
      "    \n",
      "print problem.objective.value()"
     ],
     "language": "python",
     "metadata": {},
     "outputs": [
      {
       "output_type": "stream",
       "stream": "stdout",
       "text": [
        "x = 20.0\n",
        "y = 60.0\n",
        "180.0\n"
       ]
      }
     ],
     "prompt_number": 28
    },
    {
     "cell_type": "markdown",
     "metadata": {},
     "source": [
      "# Integer Programming\n",
      "\n",
      "Linear integer programming problem restricts all variables as integers. It is frequently used in operational research to model real-world working problems. "
     ]
    },
    {
     "cell_type": "markdown",
     "metadata": {},
     "source": [
      "## Example of an integer programming model with binary conditions\n",
      "\n",
      "Suppose we must go for 150 contracts in a particular over-the-counter exotic security from three dealers. \n",
      "- Dealer $X$ quoted \\$500 per contract plus handling fees of \\$4,000, regardless of the number of contracts sold. \n",
      "- Dealer $Y$ charges \\$350 per contract plus a transaction fee of \\$2,000.\n",
      "- Dealer $Z$ charges \\$450 per contract plus a fee of \\$6,000.\n",
      "Dearler $X$ will sell at most 100 contracts, dealer $Y$ at most 90, and dealer $Z$ at most 70. \n",
      "The minimum transaction volume from any dealer is 30 contracts.\n",
      "How should we minimize the cost of purchasing 150 contracts?\n"
     ]
    },
    {
     "cell_type": "code",
     "collapsed": false,
     "input": [
      "import pulp\n",
      "\n",
      "dealers=[\"X\",\"Y\",\"Z\"]\n",
      "\n",
      "variable_costs = {}\n",
      "variable_costs[\"X\"]=500\n",
      "variable_costs[\"Y\"]=350\n",
      "variable_costs[\"Z\"]=450\n",
      "\n",
      "fixed_costs={\"X\":4000,\"Y\":2000,\"Z\":6000}\n",
      "\n",
      "quantities = pulp.LpVariable.dicts(\"quant\",dealers,lowBound=0,\n",
      "cat=pulp.LpInteger) \n",
      "\n",
      "is_orders=pulp.LpVariable.dicts(\"order\", dealers,lowBound=0,\n",
      "cat=pulp.LpBinary) \n",
      "\n",
      "print is_orders\n",
      "\n",
      "problem = pulp.LpProblem(sense=pulp.LpMinimize)\n",
      "problem += sum(\n",
      "[variable_costs[i]*quantities[i]+is_orders[i]*fixed_costs[i] for i in dealers])\n",
      "problem += is_orders[\"X\"]*30 <=quantities[\"X\"] <=is_orders[\"X\"]*100\n",
      "problem += is_orders[\"Y\"]*30 <=quantities[\"Y\"] <=is_orders[\"Y\"]*90\n",
      "problem += is_orders[\"Z\"]*30 <=quantities[\"Z\"] <=is_orders[\"Z\"]*70\n",
      "problem += sum(quantities[i] for i in dealers) == 150\n",
      "problem.solve()\n",
      "for x in problem.variables():\n",
      "    print x.name, \"=\", x.varValue\n",
      "    \n",
      "print problem.objective.value()\n",
      "print [variable_costs[i]*quantities[i]+is_orders[i]*fixed_costs[i] for i in dealers]\n",
      "print quantities[\"X\"]\n",
      "print variable_costs[i]*quantities[i]+is_orders[i]*fixed_costs[i]"
     ],
     "language": "python",
     "metadata": {},
     "outputs": [
      {
       "output_type": "stream",
       "stream": "stdout",
       "text": [
        "{'Y': order_Y, 'X': order_X, 'Z': order_Z}\n",
        "order_X = 0.0\n",
        "order_Y = 1.0\n",
        "order_Z = 1.0\n",
        "quant_X = 0.0\n",
        "quant_Y = 90.0\n",
        "quant_Z = 60.0\n",
        "66500.0\n",
        "[4000*order_X + 500*quant_X + 0, 2000*order_Y + 350*quant_Y + 0, 6000*order_Z + 450*quant_Z + 0]\n",
        "quant_X\n",
        "6000*order_Z + 450*quant_Z\n"
       ]
      }
     ],
     "prompt_number": 65
    },
    {
     "cell_type": "markdown",
     "metadata": {},
     "source": [
      "**Incorrect solution**\n",
      "\n",
      "The minimization problem can be mathematically represented as follows:\n",
      "$$ \\min: costs = \\sum_{i=x}^{i=z} IsOrder_i(variable cost_i \\cdot quantity_i + fixed costs_i) $$\n",
      "Subject to:\n",
      "$$ 30<=quantity_x<=100 $$\n",
      "$$ 30<=quantity_y<=90 $$\n",
      "$$ 30<=quantity_z<=70 $$\n",
      "$$ \\sum_{i=x}^{i=z} quantity_i = 150 $$"
     ]
    },
    {
     "cell_type": "code",
     "collapsed": false,
     "input": [
      "# Initialize the model with constraints\n",
      "model = pulp.LpProblem(\"A Cost Minimization Problem\", pulp.LpMinimize)\n",
      "model += sum([(variable_costs[i]*quantities[i] + \n",
      "              fixed_costs[i])*is_orders[i] for i in dealers]), \"Objective function\"\n",
      "model += 30 <= quantities[\"X\"] <= 100, \"Boundary of total volume of X\"\n",
      "model += 30 <= quantities[\"Y\"] <= 90, \"Boundary of total volume of Y\"\n",
      "model += 30 <= quantities[\"Z\"] <= 70, \"Boundary of total volume of Z\"\n",
      "model += sum([quantities[i] for i in dealers]) == 150, \"Total contracts required\"\n",
      "\n",
      "model.solve()\n"
     ],
     "language": "python",
     "metadata": {},
     "outputs": [
      {
       "ename": "TypeError",
       "evalue": "Non-constant expressions cannot be multiplied",
       "output_type": "pyerr",
       "traceback": [
        "\u001b[0;31m---------------------------------------------------------------------------\u001b[0m\n\u001b[0;31mTypeError\u001b[0m                                 Traceback (most recent call last)",
        "\u001b[0;32m<ipython-input-21-b8c57a37ee2c>\u001b[0m in \u001b[0;36m<module>\u001b[0;34m()\u001b[0m\n\u001b[1;32m      2\u001b[0m \u001b[0mmodel\u001b[0m \u001b[0;34m=\u001b[0m \u001b[0mpulp\u001b[0m\u001b[0;34m.\u001b[0m\u001b[0mLpProblem\u001b[0m\u001b[0;34m(\u001b[0m\u001b[0;34m\"A Cost Minimization Problem\"\u001b[0m\u001b[0;34m,\u001b[0m \u001b[0mpulp\u001b[0m\u001b[0;34m.\u001b[0m\u001b[0mLpMinimize\u001b[0m\u001b[0;34m)\u001b[0m\u001b[0;34m\u001b[0m\u001b[0m\n\u001b[1;32m      3\u001b[0m model += sum([(variable_costs[i]*quantities[i] + \n\u001b[0;32m----> 4\u001b[0;31m               fixed_costs[i])*is_orders[i] for i in dealers]), \"Objective function\"\n\u001b[0m\u001b[1;32m      5\u001b[0m \u001b[0mmodel\u001b[0m \u001b[0;34m+=\u001b[0m \u001b[0;36m30\u001b[0m \u001b[0;34m<=\u001b[0m \u001b[0mquantities\u001b[0m\u001b[0;34m[\u001b[0m\u001b[0;34m\"X\"\u001b[0m\u001b[0;34m]\u001b[0m \u001b[0;34m<=\u001b[0m \u001b[0;36m100\u001b[0m\u001b[0;34m,\u001b[0m \u001b[0;34m\"Boundary of total volume of X\"\u001b[0m\u001b[0;34m\u001b[0m\u001b[0m\n\u001b[1;32m      6\u001b[0m \u001b[0mmodel\u001b[0m \u001b[0;34m+=\u001b[0m \u001b[0;36m30\u001b[0m \u001b[0;34m<=\u001b[0m \u001b[0mquantities\u001b[0m\u001b[0;34m[\u001b[0m\u001b[0;34m\"Y\"\u001b[0m\u001b[0;34m]\u001b[0m \u001b[0;34m<=\u001b[0m \u001b[0;36m90\u001b[0m\u001b[0;34m,\u001b[0m \u001b[0;34m\"Boundary of total volume of Y\"\u001b[0m\u001b[0;34m\u001b[0m\u001b[0m\n",
        "\u001b[0;32m/usr/local/lib/python2.7/dist-packages/pulp/pulp.pyc\u001b[0m in \u001b[0;36m__mul__\u001b[0;34m(self, other)\u001b[0m\n\u001b[1;32m    784\u001b[0m                         \u001b[0me\u001b[0m\u001b[0;34m[\u001b[0m\u001b[0mv\u001b[0m\u001b[0;34m]\u001b[0m \u001b[0;34m=\u001b[0m \u001b[0mc\u001b[0m \u001b[0;34m*\u001b[0m \u001b[0mx\u001b[0m\u001b[0;34m\u001b[0m\u001b[0m\n\u001b[1;32m    785\u001b[0m         \u001b[0;32melif\u001b[0m \u001b[0misinstance\u001b[0m\u001b[0;34m(\u001b[0m\u001b[0mother\u001b[0m\u001b[0;34m,\u001b[0m\u001b[0mLpVariable\u001b[0m\u001b[0;34m)\u001b[0m\u001b[0;34m:\u001b[0m\u001b[0;34m\u001b[0m\u001b[0m\n\u001b[0;32m--> 786\u001b[0;31m             \u001b[0;32mreturn\u001b[0m \u001b[0mself\u001b[0m \u001b[0;34m*\u001b[0m \u001b[0mLpAffineExpression\u001b[0m\u001b[0;34m(\u001b[0m\u001b[0mother\u001b[0m\u001b[0;34m)\u001b[0m\u001b[0;34m\u001b[0m\u001b[0m\n\u001b[0m\u001b[1;32m    787\u001b[0m         \u001b[0;32melse\u001b[0m\u001b[0;34m:\u001b[0m\u001b[0;34m\u001b[0m\u001b[0m\n\u001b[1;32m    788\u001b[0m             \u001b[0;32mif\u001b[0m \u001b[0mother\u001b[0m \u001b[0;34m!=\u001b[0m \u001b[0;36m0\u001b[0m\u001b[0;34m:\u001b[0m\u001b[0;34m\u001b[0m\u001b[0m\n",
        "\u001b[0;32m/usr/local/lib/python2.7/dist-packages/pulp/pulp.pyc\u001b[0m in \u001b[0;36m__mul__\u001b[0;34m(self, other)\u001b[0m\n\u001b[1;32m    772\u001b[0m             \u001b[0;32mif\u001b[0m \u001b[0mlen\u001b[0m\u001b[0;34m(\u001b[0m\u001b[0mother\u001b[0m\u001b[0;34m)\u001b[0m\u001b[0;34m:\u001b[0m\u001b[0;34m\u001b[0m\u001b[0m\n\u001b[1;32m    773\u001b[0m                 \u001b[0;32mif\u001b[0m \u001b[0mlen\u001b[0m\u001b[0;34m(\u001b[0m\u001b[0mself\u001b[0m\u001b[0;34m)\u001b[0m\u001b[0;34m:\u001b[0m\u001b[0;34m\u001b[0m\u001b[0m\n\u001b[0;32m--> 774\u001b[0;31m                     \u001b[0;32mraise\u001b[0m \u001b[0mTypeError\u001b[0m\u001b[0;34m(\u001b[0m\u001b[0;34m\"Non-constant expressions cannot be multiplied\"\u001b[0m\u001b[0;34m)\u001b[0m\u001b[0;34m\u001b[0m\u001b[0m\n\u001b[0m\u001b[1;32m    775\u001b[0m                 \u001b[0;32melse\u001b[0m\u001b[0;34m:\u001b[0m\u001b[0;34m\u001b[0m\u001b[0m\n\u001b[1;32m    776\u001b[0m                     \u001b[0mc\u001b[0m \u001b[0;34m=\u001b[0m \u001b[0mself\u001b[0m\u001b[0;34m.\u001b[0m\u001b[0mconstant\u001b[0m\u001b[0;34m\u001b[0m\u001b[0m\n",
        "\u001b[0;31mTypeError\u001b[0m: Non-constant expressions cannot be multiplied"
       ]
      }
     ],
     "prompt_number": 21
    },
    {
     "cell_type": "markdown",
     "metadata": {},
     "source": [
      "**Correct solution**\n",
      "\n",
      "The minimization problem can be mathematically represented as follows:\n",
      "$$ \\min: costs = \\sum_{i=x}^{i=z} [(variable cost_i \\cdot quantity_i + IsOrder_i \\cdot fixed costs_i) $$]\n",
      "Subject to:\n",
      "$$ IsOrder_x \\cdot 30<=quantity_x<=IsOrder_x \\cdot 100 $$\n",
      "$$ IsOrder_y \\cdot 30<=quantity_y<=IsOrder_y \\cdot 90 $$\n",
      "$$ IsOrder_z \\cdot 30<=quantity_z<=IsOrder_z \\cdot 70 $$\n",
      "$$ \\sum_{i=x}^{i=z} quantity_i = 150 $$"
     ]
    },
    {
     "cell_type": "code",
     "collapsed": false,
     "input": [
      "# Initialize the model with constraints\n",
      "model = pulp.LpProblem(\"A cost minimization problem\", pulp.LpMinimize)\n",
      "model += sum(variable_costs[i]*quantities[i] + is_orders[i]*fixed_costs[i] for i in dealers), \\\n",
      "        \"Objective function\"\n",
      "model += is_orders[\"X\"]*30 <= quantities[\"X\"] <= is_orders[\"X\"]*100, \"Boundary of dealer X\"\n",
      "model += is_orders[\"Y\"]*30 <= quantities[\"Y\"] <= is_orders[\"Y\"]*90, \"Boundary of dealer Y\"\n",
      "model += is_orders[\"Z\"]*30 <= quantities[\"Z\"] <= is_orders[\"Z\"]*70, \"Boundary of dealer Z\"\n",
      "model += sum([quantities[i] for i in dealers])==150, \"Total contracts required\"\n",
      "\n",
      "model.solve()\n",
      "\n",
      "print \"Minimization Results:\"\n",
      "for variable in model.variables():\n",
      "    print variable.name, \"=\", variable.varValue\n",
      "    \n",
      "print \"Total costs =\", model.objective.value()"
     ],
     "language": "python",
     "metadata": {},
     "outputs": [
      {
       "output_type": "stream",
       "stream": "stdout",
       "text": [
        "Minimization Results:\n",
        "orders_X = 0.0\n",
        "orders_Y = 1.0\n",
        "orders_Z = 1.0\n",
        "quantity_X = 0.0\n",
        "quantity_Y = 90.0\n",
        "quantity_Z = 60.0\n",
        "Total costs = 66500.0\n"
       ]
      }
     ],
     "prompt_number": 27
    },
    {
     "cell_type": "markdown",
     "metadata": {},
     "source": [
      "# Solve a System of Linear Equations using Matrices\n"
     ]
    },
    {
     "cell_type": "markdown",
     "metadata": {},
     "source": [
      "## Example\n",
      "\n",
      "Solve the following three equations:\n",
      "$$ 2a + b + c = 4 $$\n",
      "$$ a + 3b + 2c = 5 $$\n",
      "$$ a = 6 $$\n",
      "\n",
      "With all of the coefficients visible, the equations are as follows:\n",
      "$$ 2a + 1b + 1c = 4 $$\n",
      "$$ 1a + 3b + 2c = 5 $$\n",
      "$$ 1a + 0b + 0c = 6 $$\n",
      "\n",
      "$$\n",
      "A =\n",
      "  \\begin{bmatrix}\n",
      "    2 & 1 & 1 \\\\\n",
      "    1 & 3 & 2 \\\\\n",
      "    1 & 0 & 0\n",
      "  \\end{bmatrix}\n",
      "$$\n",
      "\n",
      "$$\n",
      "X =\n",
      "  \\begin{bmatrix}\n",
      "    a \\\\ b \\\\ c\n",
      "  \\end{bmatrix}\n",
      "$$\n",
      "\n",
      "$$\n",
      "Y =\n",
      "  \\begin{bmatrix}\n",
      "    4 \\\\ 5 \\\\ 6\n",
      "  \\end{bmatrix}  \n",
      "$$\n",
      "\n",
      "The linear equations can now be stated as follows:\n",
      "$$ AX=Y $$\n",
      "\n",
      "And the solutions can be found:\n",
      "$$X = A^{-1}Y$$\n",
      "\n",
      "Using the *NumPy* arrays, the $X$ matrix can be easily solved using linear algebra."
     ]
    },
    {
     "cell_type": "code",
     "collapsed": false,
     "input": [
      "import numpy as np\n",
      "\n",
      "A = np.array([[1, 2, 1], \n",
      "              [1, 3, 2],\n",
      "              [1, 0, 0]])\n",
      "Y = np.array([4, 5, 6])\n",
      "\n",
      "print np.linalg.solve(A, Y)\n"
     ],
     "language": "python",
     "metadata": {},
     "outputs": [
      {
       "output_type": "stream",
       "stream": "stdout",
       "text": [
        "[ 6. -3.  4.]\n"
       ]
      }
     ],
     "prompt_number": 29
    },
    {
     "cell_type": "code",
     "collapsed": false,
     "input": [],
     "language": "python",
     "metadata": {},
     "outputs": []
    }
   ],
   "metadata": {}
  }
 ]
}