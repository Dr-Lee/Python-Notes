{
 "metadata": {
  "name": "",
  "signature": "sha256:dd87cce8e67323664006710b2dbe764dc91e34fda1a93d2d1f4b2eb9bf68c41f"
 },
 "nbformat": 3,
 "nbformat_minor": 0,
 "worksheets": [
  {
   "cells": [
    {
     "cell_type": "markdown",
     "metadata": {},
     "source": [
      "Linear Models\n",
      "==\n",
      "Linear models are widely used to help price securities and perform optimal portfolio allocation, among other useful things. \n",
      "\n",
      "One of the significance of linearity in financial modelling is its assurance that a problem terminates at a global optimal solution.\n",
      "\n",
      "Modules such as the **SciPy** and **NumPy** packages contain a variety of linear regression functions for data scientists to work with.\n",
      "\n",
      "In traditional portfolio management, the allocation of assets fllows a linear pattern, and investors have individual styles of investing. We can state the problem of portfolio allocation into a system of linear equations, containning either equalities or inequalities. These linear systems can then be represented in a matrix form as $Ax=B$, where $A$ is the known coefficients, $B$ is the observed result, and $x$ is the vector of values to find out. More often, $x$ contains the optimal security weights to maximize the agent's utility. Using matrix algebra, we can efficiently solve for $x$ using either direct or indirect methods."
     ]
    },
    {
     "cell_type": "markdown",
     "metadata": {},
     "source": [
      "# 1. Multivariate OLS\n",
      "\n",
      "Many Python packages such as **SciPy** come with several variants of regression functions. In particular, the **statsmodels** package is a complement to **SciPy** with descriptive statistics and estimation of statistical models. The official page for **statsmodels** is http://statsmodels.sourceforge.net/\n"
     ]
    },
    {
     "cell_type": "markdown",
     "metadata": {},
     "source": [
      "## Example - Perform OLS and view its summary\n",
      "\n",
      "Let's assume that you have implemented an APT model with seven factors that return the values of $Y$. Consider the following set of data collected over 9 time periods, from $t1$ to $t9$. $X1$ to $X7$ are exogenous variables observed at each period. The regression problem is therefore defined as:\n",
      "$$ Y = \\beta_1X_{1}+\\beta_2X_{2}+\\beta_3X_{3}+\\beta_4X_{4}+\\beta_5X_{5}+\\beta_6X_{6}+\\beta_7X_{7}+\\varepsilon $$"
     ]
    },
    {
     "cell_type": "code",
     "collapsed": false,
     "input": [
      "import numpy as np\n",
      "import statsmodels.api as sm\n",
      "num_period = 100\n",
      "all_values = np.array([np.random.random(8) for i in range(num_period)])\n",
      "\n",
      "\n",
      "y_values = all_values[:,0] #first col\n",
      "x_values = all_values[:,1:]#all other cols as X\n",
      "x_values = sm.add_constant(x_values, prepend=True) #add intercept\n",
      "\n",
      "model = sm.OLS(y_values, x_values)\n",
      "results=model.fit()\n",
      "\n",
      "results = sm.OLS(y_values, x_values).fit()\n",
      "print results.summary()\n",
      "print results.params\n",
      "print dir(sm)\n",
      "sm.GLM()\n"
     ],
     "language": "python",
     "metadata": {},
     "outputs": [
      {
       "output_type": "stream",
       "stream": "stdout",
       "text": [
        "                            OLS Regression Results                            \n",
        "==============================================================================\n",
        "Dep. Variable:                      y   R-squared:                       0.067\n",
        "Model:                            OLS   Adj. R-squared:                 -0.004\n",
        "Method:                 Least Squares   F-statistic:                    0.9483\n",
        "Date:                Wed, 24 Jun 2015   Prob (F-statistic):              0.474\n",
        "Time:                        17:26:21   Log-Likelihood:                -14.662\n",
        "No. Observations:                 100   AIC:                             45.32\n",
        "Df Residuals:                      92   BIC:                             66.17\n",
        "Df Model:                           7                                         \n",
        "==============================================================================\n",
        "                 coef    std err          t      P>|t|      [95.0% Conf. Int.]\n",
        "------------------------------------------------------------------------------\n",
        "const          0.3766      0.147      2.555      0.012         0.084     0.669\n",
        "x1            -0.0618      0.114     -0.543      0.588        -0.288     0.164\n",
        "x2            -0.0002      0.108     -0.002      0.998        -0.215     0.215\n",
        "x3             0.0672      0.109      0.618      0.538        -0.149     0.283\n",
        "x4             0.0480      0.119      0.402      0.689        -0.189     0.285\n",
        "x5             0.1253      0.105      1.198      0.234        -0.082     0.333\n",
        "x6            -0.0798      0.102     -0.778      0.438        -0.283     0.124\n",
        "x7             0.1608      0.103      1.561      0.122        -0.044     0.365\n",
        "==============================================================================\n",
        "Omnibus:                       31.877   Durbin-Watson:                   1.819\n",
        "Prob(Omnibus):                  0.000   Jarque-Bera (JB):                6.107\n",
        "Skew:                          -0.119   Prob(JB):                       0.0472\n",
        "Kurtosis:                       1.813   Cond. No.                         10.8\n",
        "==============================================================================\n",
        "[  3.76584525e-01  -6.18474763e-02  -2.13084264e-04   6.71598608e-02\n",
        "   4.80299324e-02   1.25269933e-01  -7.97871908e-02   1.60796041e-01]\n",
        "['GLM', 'GLS', 'GLSAR', 'Logit', 'MNLogit', 'OLS', 'Poisson', 'Probit', 'RLM', 'WLS', '__builtins__', '__doc__', '__file__', '__name__', '__package__', 'add_constant', 'categorical', 'datasets', 'distributions', 'families', 'graphics', 'iolib', 'nonparametric', 'qqplot', 'regression', 'robust', 'stats', 'test', 'tools', 'tsa', 'version']\n"
       ]
      },
      {
       "ename": "TypeError",
       "evalue": "__init__() takes at least 3 arguments (1 given)",
       "output_type": "pyerr",
       "traceback": [
        "\u001b[0;31m---------------------------------------------------------------------------\u001b[0m\n\u001b[0;31mTypeError\u001b[0m                                 Traceback (most recent call last)",
        "\u001b[0;32m<ipython-input-14-7e539c984654>\u001b[0m in \u001b[0;36m<module>\u001b[0;34m()\u001b[0m\n\u001b[1;32m     16\u001b[0m \u001b[0;32mprint\u001b[0m \u001b[0mresults\u001b[0m\u001b[0;34m.\u001b[0m\u001b[0mparams\u001b[0m\u001b[0;34m\u001b[0m\u001b[0m\n\u001b[1;32m     17\u001b[0m \u001b[0;32mprint\u001b[0m \u001b[0mdir\u001b[0m\u001b[0;34m(\u001b[0m\u001b[0msm\u001b[0m\u001b[0;34m)\u001b[0m\u001b[0;34m\u001b[0m\u001b[0m\n\u001b[0;32m---> 18\u001b[0;31m \u001b[0msm\u001b[0m\u001b[0;34m.\u001b[0m\u001b[0mGLM\u001b[0m\u001b[0;34m(\u001b[0m\u001b[0;34m)\u001b[0m\u001b[0;34m\u001b[0m\u001b[0m\n\u001b[0m",
        "\u001b[0;31mTypeError\u001b[0m: __init__() takes at least 3 arguments (1 given)"
       ]
      }
     ],
     "prompt_number": 14
    },
    {
     "cell_type": "markdown",
     "metadata": {},
     "source": [
      "# 2. Linear Optimization\n",
      "\n",
      "Linear optimization focuses on minimizing or maximizing the value of the objective function. The examples are maximizing returns and minimizing volatility. These objectives are usually governed by certain regulations, such as no short-selling rule, limits on the number of securities to be invested, and so on.\n",
      "\n",
      "A number of packages provide optimization methods. The following example makes use of **PuLP**, an open source linear programming modeller."
     ]
    },
    {
     "cell_type": "markdown",
     "metadata": {},
     "source": [
      "## Example - Linear optimization problem\n",
      "Suppose that we are interested in investing in two securities, $x$ and $y$. We would like to find out the actual number of units to invest for every 3 units of security $x$ and 2 units of security $y$, such that the total number of units invested is maximized, where possible. However, there are certain constraints on our investment strategy:\n",
      "- For every 2 units of security $x$ invested and 1 unit of security $y$ invested, the total volume must not exceed 100.\n",
      "- For every unit of security $x$ and $y$ invested, the total volume must not exceed 80.\n",
      "- The total volume allowed to invest in security $x$ must not exceed 40.\n",
      "- Short selling is not allowed for both the securities.\n",
      "\n",
      "The maximization problem can be mathematically represented as follows:\n",
      "$$ \\max: f(x,y) = 3x+2y $$\n",
      "Subject to:\n",
      "$$ 2x+y<=100 $$\n",
      "$$ x+y<=80 $$\n",
      "$$ x<=40 $$\n",
      "$$ x>=0, y>=0 $$"
     ]
    },
    {
     "cell_type": "code",
     "collapsed": false,
     "input": [
      "import pulp\n",
      "\n",
      "# Define input variables\n",
      "x = pulp.LpVariable(\"x\", lowBound=0) #linear program, specify the x, and y variables to be solved\n",
      "y = pulp.LpVariable(\"y\", lowBound=0)\n",
      "\n",
      "problem = pulp.LpProblem(\"this is a problem\",pulp.LpMaximize)\n",
      "problem += 3*x + 2*y, \"objective function\"\n",
      "problem += 2*x + y <=100\n",
      "problem += x + y <=80\n",
      "problem += x<=40\n",
      "\n",
      "problem.solve()\n",
      "\n",
      "print problem\n",
      "print \"Max results:\"\n",
      "for x in problem.variables():\n",
      "    print x.name, \"=\", x.varValue\n",
      "    \n",
      "print problem.objective.value()\n"
     ],
     "language": "python",
     "metadata": {},
     "outputs": []
    },
    {
     "cell_type": "markdown",
     "metadata": {},
     "source": [
      "# Integer Programming\n",
      "\n",
      "Linear integer programming problem restricts all variables as integers. It is frequently used in operational research to model real-world working problems. "
     ]
    },
    {
     "cell_type": "markdown",
     "metadata": {},
     "source": [
      "## Example of an integer programming model with binary conditions\n",
      "\n",
      "Suppose we must go for 150 contracts in a particular over-the-counter exotic security from three dealers. \n",
      "- Dealer $X$ quoted \\$500 per contract plus handling fees of \\$4,000, regardless of the number of contracts sold. \n",
      "- Dealer $Y$ charges \\$450 per contract plus a transaction fee of \\$2,000.\n",
      "- Dealer $Z$ charges \\$450 per contract plus a fee of \\$6,000.\n",
      "Dearler $X$ will sell at most 100 contracts, dealer $Y$ at most 90, and dealer $Z$ at most 70. \n",
      "The minimum transaction volume from any dealer is 30 contracts.\n",
      "How should we minimize the cost of purchasing 150 contracts?\n"
     ]
    },
    {
     "cell_type": "code",
     "collapsed": false,
     "input": [
      "import pulp\n",
      "dealers = [\"X\", \"Y\",  \"Z\"]\n",
      "variable_costs = {}\n",
      "variable_costs[\"X\"] = 500\n",
      "variable_costs[\"Y\"] = 350\n",
      "variable_costs[\"Z\"] = 450\n",
      "print variable_costs, type (variable_costs)\n",
      "\n",
      "fixed_costs = {\"X\":4000,\n",
      "               \"Y\":2000,\n",
      "               \"Z\":6000}\n",
      "#define input variables\n",
      "\n",
      "quantities = pulp.LpVariable.dicts(\"quantity\",dealers,\n",
      "                                   lowBound=0, cat=pulp.LpInteger)\n",
      "\n",
      "is_orders = pulp.LpVariable.dicts(\"orders\",dealers, cat=pulp.LpBinary)\n",
      "\n",
      "\n",
      "\n"
     ],
     "language": "python",
     "metadata": {},
     "outputs": []
    },
    {
     "cell_type": "markdown",
     "metadata": {},
     "source": [
      "**Incorrect solution**\n",
      "\n",
      "The minimization problem can be mathematically represented as follows:\n",
      "$$ \\min: costs = \\sum_{i=x}^{z} IsOrder_i(variable cost_i \\cdot quantity_i + fixed costs_i) $$\n",
      "Subject to:\n",
      "$$ 30<=quantity_x<=100 $$\n",
      "$$ 30<=quantity_y<=90 $$\n",
      "$$ 30<=quantity_z<=70 $$\n",
      "$$ \\sum_{i=x}^{z} quantity_i = 150 $$"
     ]
    },
    {
     "cell_type": "code",
     "collapsed": false,
     "input": [
      "# Initialize the model with constraints\n",
      "model = pulp.LpProblem(\"A Cost Minimization Problem\", pulp.LpMinimize)\n",
      "model += sum([(variable_costs[i]*quantities[i] + \n",
      "              fixed_costs[i])*is_orders[i] for i in dealers]), \"Objective function\"\n",
      "model += 30 <= quantities[\"X\"] <= 100, \"Boundary of total volume of X\"\n",
      "model += 30 <= quantities[\"Y\"] <= 90, \"Boundary of total volume of Y\"\n",
      "model += 30 <= quantities[\"Z\"] <= 70, \"Boundary of total volume of Z\"\n",
      "model += sum([quantities[i] for i in dealers]) == 150, \"Total contracts required\"\n",
      "\n",
      "model.solve()\n"
     ],
     "language": "python",
     "metadata": {},
     "outputs": []
    },
    {
     "cell_type": "markdown",
     "metadata": {},
     "source": [
      "**Correct solution**\n",
      "\n",
      "The minimization problem can be mathematically represented as follows:\n",
      "$$ \\min: costs = \\sum_{i=x}^{i=z} [(variable cost_i \\cdot quantity_i + IsOrder_i \\cdot fixed costs_i) $$]\n",
      "Subject to:\n",
      "$$ IsOrder_x \\cdot 30<=quantity_x<=IsOrder_x \\cdot 100 $$\n",
      "$$ IsOrder_y \\cdot 30<=quantity_y<=IsOrder_y \\cdot 90 $$\n",
      "$$ IsOrder_z \\cdot 30<=quantity_z<=IsOrder_z \\cdot 70 $$\n",
      "$$ \\sum_{i=x}^{i=z} quantity_i = 150 $$"
     ]
    },
    {
     "cell_type": "code",
     "collapsed": false,
     "input": [
      "print [variable_costs[i]*quantities[i] + is_orders[i]*fixed_costs[i] for i in dealers]\n",
      "print quantities[\"X\"]"
     ],
     "language": "python",
     "metadata": {},
     "outputs": [
      {
       "output_type": "stream",
       "stream": "stdout",
       "text": [
        "[4000*orders_X + 500*quantity_X + 0, 2000*orders_Y + 350*quantity_Y + 0, 6000*orders_Z + 450*quantity_Z + 0]\n",
        "quantity_X\n"
       ]
      }
     ],
     "prompt_number": 17
    },
    {
     "cell_type": "code",
     "collapsed": false,
     "input": [
      "import pulp\n",
      "dealers = [\"X\", \"Y\", \"Z\"]\n",
      "problem = pulp.LpProblem(\"some problem\", pulp.LpMinimize)\n",
      "problem += sum(variable_costs[i]*quantities[i] + is_orders[i]*fixed_costs[i] for i in dealers)\n",
      "p\n",
      "\n",
      "problem += is_orders[\"X\"]*30<= quantities[\"X\"]<= is_orders[\"X\"]*100\n",
      "problem += is_orders[\"Y\"]*30<= quantities[\"Y\"]<= is_orders[\"Y\"]*90\n",
      "problem += is_orders[\"Z\"]*30<= quantities[\"Z\"]<= is_orders[\"Z\"]*70\n",
      "problem += sum(quantities[i] for i in dealers) == 150\n",
      "\n",
      "\n",
      "#list comprehension\n",
      "def peter(is_orders, quantities):\n",
      "    sum_ = 0\n",
      "    for i in dealers:\n",
      "        sum_+= variable_costs[i]*quantities[i] + is_orders[i]*fixed_costs[i]\n",
      "    return sum_\n",
      "\n",
      "\n",
      "problem.solve()\n",
      "\n",
      "for variable in problem.variables():\n",
      "    print variable.name, \"=\", variable.varValue\n",
      "print \"Total costs =\", problem.objective.value()\n"
     ],
     "language": "python",
     "metadata": {},
     "outputs": [
      {
       "output_type": "stream",
       "stream": "stdout",
       "text": [
        "orders_X = 0.0\n",
        "orders_Y = 1.0\n",
        "orders_Z = 1.0\n",
        "quantity_X = 0.0\n",
        "quantity_Y = 90.0\n",
        "quantity_Z = 60.0\n",
        "Total costs = 66500.0\n"
       ]
      }
     ],
     "prompt_number": 13
    },
    {
     "cell_type": "markdown",
     "metadata": {},
     "source": [
      "# Solve a System of Linear Equations using Matrices\n"
     ]
    },
    {
     "cell_type": "markdown",
     "metadata": {},
     "source": [
      "## Example\n",
      "\n",
      "Solve the following three equations:\n",
      "$$ 2a + b + c = 4 $$\n",
      "$$ a + 3b + 2c = 5 $$\n",
      "$$ a = 6 $$\n",
      "\n",
      "With all of the coefficients visible, the equations are as follows:\n",
      "$$ 2a + 1b + 1c = 4 $$\n",
      "$$ 1a + 3b + 2c = 5 $$\n",
      "$$ 1a + 0b + 0c = 6 $$\n",
      "\n",
      "$$\n",
      "A =\n",
      "  \\begin{bmatrix}\n",
      "    2 & 1 & 1 \\\\\n",
      "    1 & 3 & 2 \\\\\n",
      "    1 & 0 & 0\n",
      "  \\end{bmatrix}\n",
      "$$\n",
      "\n",
      "$$\n",
      "X =\n",
      "  \\begin{bmatrix}\n",
      "    a \\\\ b \\\\ c\n",
      "  \\end{bmatrix}\n",
      "$$\n",
      "\n",
      "$$\n",
      "Y =\n",
      "  \\begin{bmatrix}\n",
      "    4 \\\\ 5 \\\\ 6\n",
      "  \\end{bmatrix}  \n",
      "$$\n",
      "\n",
      "The linear equations can now be stated as follows:\n",
      "$$ AX=Y $$\n",
      "\n",
      "And the solutions can be found:\n",
      "$$X = A^{-1}Y$$\n",
      "\n",
      "Using the *NumPy* arrays, the $X$ matrix can be easily solved using linear algebra."
     ]
    },
    {
     "cell_type": "code",
     "collapsed": false,
     "input": [
      "import numpy as np\n",
      "\n",
      "A = np.array([[1, 2, 1], \n",
      "              [1, 3, 2],\n",
      "              [1, 0, 0]])\n",
      "Y = np.array([4, 5, 6])\n",
      "\n",
      "\n",
      "print np.linalg.solve(A, Y)\n",
      "\n"
     ],
     "language": "python",
     "metadata": {},
     "outputs": [
      {
       "output_type": "stream",
       "stream": "stdout",
       "text": [
        "[ 6. -3.  4.]\n"
       ]
      }
     ],
     "prompt_number": 2
    },
    {
     "cell_type": "code",
     "collapsed": false,
     "input": [
      "print A*Y\n",
      "\n",
      "AI = numpy.dot(np.linalg.inv(A), A)\n",
      "\n",
      "print numpy.dot(np.linalg.inv(A), Y)"
     ],
     "language": "python",
     "metadata": {},
     "outputs": [
      {
       "output_type": "stream",
       "stream": "stdout",
       "text": [
        "[[ 4 10  6]\n",
        " [ 4 15 12]\n",
        " [ 4  0  0]]\n",
        "[ 6. -3.  4.]\n"
       ]
      }
     ],
     "prompt_number": 3
    }
   ],
   "metadata": {}
  }
 ]
}