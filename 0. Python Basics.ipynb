{
 "metadata": {
  "name": "",
  "signature": "sha256:9b2fd2652e9f388b8059db205c80acd1ff2ba650d0b2e38337b5c385be3f8d54"
 },
 "nbformat": 3,
 "nbformat_minor": 0,
 "worksheets": [
  {
   "cells": [
    {
     "cell_type": "markdown",
     "metadata": {},
     "source": [
      "Tuples\n",
      "==\n",
      "Tuples are just like lists, but you can't change their values. Again, each value is numbered starting from zero, for easy reference. "
     ]
    },
    {
     "cell_type": "code",
     "collapsed": false,
     "input": [
      "months = ('January','February','March','April','May')\n",
      "print months"
     ],
     "language": "python",
     "metadata": {},
     "outputs": [
      {
       "output_type": "stream",
       "stream": "stdout",
       "text": [
        "('January', 'February', 'March', 'April', 'May')\n"
       ]
      }
     ],
     "prompt_number": 1
    },
    {
     "cell_type": "markdown",
     "metadata": {},
     "source": [
      "Note we use parentheses rather than square brackets. "
     ]
    },
    {
     "cell_type": "code",
     "collapsed": false,
     "input": [
      "# Tuple has indices \n",
      "# Similar to Lists\n",
      "print months.index('February')\n",
      "print months[1]"
     ],
     "language": "python",
     "metadata": {},
     "outputs": [
      {
       "output_type": "stream",
       "stream": "stdout",
       "text": [
        "1\n",
        "February\n"
       ]
      }
     ],
     "prompt_number": 3
    },
    {
     "cell_type": "code",
     "collapsed": false,
     "input": [
      "# Sometime tuples are used to associate some values in pairs. \n",
      "# In this example we made a list with pairs. Each pair is tuple (so cannot be changed). \n",
      "\n",
      "stop=1\n",
      "attention=2\n",
      "go=3\n",
      "pairs = [(stop, 'red'), (attention, 'yellow'), (go, 'green')]\n",
      "print pairs"
     ],
     "language": "python",
     "metadata": {},
     "outputs": [
      {
       "output_type": "stream",
       "stream": "stdout",
       "text": [
        "[(1, 'red'), [2, 'yellow'], (3, 'green')] 2\n",
        "(1, 'red')\n"
       ]
      },
      {
       "ename": "TypeError",
       "evalue": "'tuple' object does not support item assignment",
       "output_type": "pyerr",
       "traceback": [
        "\u001b[0;31m---------------------------------------------------------------------------\u001b[0m\n\u001b[0;31mTypeError\u001b[0m                                 Traceback (most recent call last)",
        "\u001b[0;32m<ipython-input-9-91261ff19579>\u001b[0m in \u001b[0;36m<module>\u001b[0;34m()\u001b[0m\n\u001b[1;32m     10\u001b[0m \u001b[0ma\u001b[0m \u001b[0;34m=\u001b[0m \u001b[0;34m(\u001b[0m\u001b[0mstop\u001b[0m\u001b[0;34m,\u001b[0m \u001b[0;34m'red'\u001b[0m\u001b[0;34m)\u001b[0m\u001b[0;34m\u001b[0m\u001b[0m\n\u001b[1;32m     11\u001b[0m \u001b[0;32mprint\u001b[0m \u001b[0ma\u001b[0m\u001b[0;34m\u001b[0m\u001b[0m\n\u001b[0;32m---> 12\u001b[0;31m \u001b[0ma\u001b[0m\u001b[0;34m[\u001b[0m\u001b[0;36m0\u001b[0m\u001b[0;34m]\u001b[0m \u001b[0;34m=\u001b[0m \u001b[0;36m2\u001b[0m\u001b[0;34m\u001b[0m\u001b[0m\n\u001b[0m",
        "\u001b[0;31mTypeError\u001b[0m: 'tuple' object does not support item assignment"
       ]
      }
     ],
     "prompt_number": 9
    },
    {
     "cell_type": "markdown",
     "metadata": {},
     "source": [
      "\n",
      "The above example shows the usefulness of Tuples: Tuples can be used to capture a snap shot of variables, which are likely to be changed later (i.e. inside a running function)."
     ]
    },
    {
     "cell_type": "markdown",
     "metadata": {},
     "source": [
      "Here we associated integer values with strings. How we can work with such compound object? As usual, one can loop over each item (pair) and print it: "
     ]
    },
    {
     "cell_type": "code",
     "collapsed": false,
     "input": [
      "stop=1\n",
      "attention=2\n",
      "go=3\n",
      "pairs = [(stop, 'red'), (attention, 'yellow'), (go, 'green')]\n",
      "for j in pairs:\n",
      "     print j         # we print pairs\n",
      "     print j[0],j[1] # print each value in the pair"
     ],
     "language": "python",
     "metadata": {},
     "outputs": [
      {
       "output_type": "stream",
       "stream": "stdout",
       "text": [
        "1\n",
        "red\n",
        "2\n",
        "yellow\n",
        "3\n",
        "green\n"
       ]
      }
     ],
     "prompt_number": 15
    },
    {
     "cell_type": "markdown",
     "metadata": {},
     "source": [
      "Dictionaries\n",
      "==\n",
      "Dictionaries are opposite to Lists. In lists, the index are numbers starting from zero while you can extract an item by inputting its index. In dictionaries, the index does not have to be a number (i.e., a string).\n",
      "\n",
      "In a dictionary, we have an 'index' of words, and for each of them a definition. In Python, the word is called a 'key', and the definition a 'value'. The values in a dictionary are not numbered, unlike the lists. \n",
      "\n",
      "Let us make a small dictionary: "
     ]
    },
    {
     "cell_type": "code",
     "collapsed": false,
     "input": [
      "data = {}\n",
      "data['hello'] = 'hola'\n",
      "data['yes'] = 'si'\n",
      "data['one'] = 'uno'\n",
      "data['two'] = 'dos'\n",
      "print data"
     ],
     "language": "python",
     "metadata": {},
     "outputs": [
      {
       "output_type": "stream",
       "stream": "stdout",
       "text": [
        "{'yes': ['si', 'yo', 'yoyo'], 'hello': 'hola', 'two': 'dos', 'one': 'uno'}\n",
        "['si', 'yo', 'yoyo']\n"
       ]
      }
     ],
     "prompt_number": 19
    },
    {
     "cell_type": "markdown",
     "metadata": {},
     "source": [
      "What do you see? \n",
      "\n",
      "To retrieve a value corresponding to a given key, just use the key: "
     ]
    },
    {
     "cell_type": "code",
     "collapsed": false,
     "input": [
      "print data['hello']"
     ],
     "language": "python",
     "metadata": {},
     "outputs": [
      {
       "output_type": "stream",
       "stream": "stdout",
       "text": [
        "hola\n"
       ]
      }
     ],
     "prompt_number": 11
    },
    {
     "cell_type": "markdown",
     "metadata": {},
     "source": [
      "One can also create a dictionary by explicitly writing them out in full:"
     ]
    },
    {
     "cell_type": "code",
     "collapsed": false,
     "input": [
      "data = {'hello':'hola', 'one':'uno'}\n",
      "print data"
     ],
     "language": "python",
     "metadata": {},
     "outputs": [
      {
       "output_type": "stream",
       "stream": "stdout",
       "text": [
        "{'hello': 'hola', 'one': 'uno'}\n"
       ]
      }
     ],
     "prompt_number": 12
    },
    {
     "cell_type": "markdown",
     "metadata": {},
     "source": [
      "Let us now make a loop over keys of a dictionary: "
     ]
    },
    {
     "cell_type": "code",
     "collapsed": false,
     "input": [
      "data = {}\n",
      "data['hello'] = 'hola'\n",
      "data['yes'] = 'si'\n",
      "data['one'] = 'uno'\n",
      "data['two'] = 'dos'\n",
      "for key, value in data.iteritems():\n",
      "    print \"{0} -> {1}\".format(key, value)"
     ],
     "language": "python",
     "metadata": {},
     "outputs": [
      {
       "output_type": "stream",
       "stream": "stdout",
       "text": [
        "yes -> \n",
        "hello -> \n",
        "two -> \n",
        "one -> \n"
       ]
      }
     ],
     "prompt_number": 23
    },
    {
     "cell_type": "markdown",
     "metadata": {},
     "source": [
      "Sets\n",
      "==\n",
      "\n",
      "A set is an unordered collection of objects that cannot have duplicate members. \n",
      "They are similar to lists, except that \n",
      "* they are unordered (like dictionaries). \n",
      "* they do not allow duplicate entries. "
     ]
    },
    {
     "cell_type": "code",
     "collapsed": false,
     "input": [
      "a_set = set([1, 2, 3, 3, 3, 3])\n",
      "print a_set"
     ],
     "language": "python",
     "metadata": {},
     "outputs": [
      {
       "output_type": "stream",
       "stream": "stdout",
       "text": [
        "set([1, 2, 3])\n"
       ]
      }
     ],
     "prompt_number": 24
    },
    {
     "cell_type": "code",
     "collapsed": false,
     "input": [
      "# A quick way to remove duplicates in a list\n",
      "l = [1, 1, 2, 2, 3, 3, 4, 4, 5, 5]\n",
      "a_set = set(l)\n",
      "l = list(a_set)\n",
      "print l"
     ],
     "language": "python",
     "metadata": {},
     "outputs": [
      {
       "output_type": "stream",
       "stream": "stdout",
       "text": [
        "[1, 1, 2, 2, 3, 3, 4, 4, 5, 5, 10, 10]\n",
        "[1, 2, 3, 4, 5, 10]\n"
       ]
      }
     ],
     "prompt_number": 26
    }
   ],
   "metadata": {}
  }
 ]
}