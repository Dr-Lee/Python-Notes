{
 "metadata": {
  "name": "",
  "signature": "sha256:549b904457ccd1af6f6e9a6db8fa55669dc00cff28212c033870636f2f48c5fa"
 },
 "nbformat": 3,
 "nbformat_minor": 0,
 "worksheets": [
  {
   "cells": [
    {
     "cell_type": "markdown",
     "metadata": {},
     "source": [
      "My Notes\n",
      "==\n",
      "\n",
      "# Line 1\n",
      "## Line 2\n",
      "### Line 3\n",
      "\n",
      "*itlatic*\n",
      "**bold**\n",
      "\n",
      "$ x = 2y $\n",
      "\n",
      "$$ x = 2y \\sum_{i=1}^{n} $$"
     ]
    },
    {
     "cell_type": "code",
     "collapsed": false,
     "input": [
      "print \"yoyo\"\n",
      "\n"
     ],
     "language": "python",
     "metadata": {},
     "outputs": [
      {
       "output_type": "stream",
       "stream": "stdout",
       "text": [
        "yoyo\n"
       ]
      }
     ],
     "prompt_number": 9
    },
    {
     "cell_type": "code",
     "collapsed": false,
     "input": [
      "a = 10"
     ],
     "language": "python",
     "metadata": {},
     "outputs": [],
     "prompt_number": 11
    },
    {
     "cell_type": "code",
     "collapsed": false,
     "input": [
      "print \"yoyo\"\n",
      "a"
     ],
     "language": "python",
     "metadata": {},
     "outputs": [
      {
       "output_type": "stream",
       "stream": "stdout",
       "text": [
        "yoyo\n"
       ]
      },
      {
       "metadata": {},
       "output_type": "pyout",
       "prompt_number": 14,
       "text": [
        "10"
       ]
      }
     ],
     "prompt_number": 14
    }
   ],
   "metadata": {}
  }
 ]
}