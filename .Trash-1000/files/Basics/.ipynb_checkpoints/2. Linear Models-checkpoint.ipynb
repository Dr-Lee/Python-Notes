{
 "metadata": {
  "name": "",
  "signature": "sha256:285aa406f3615ac5c13e5f220ac197ad90406c3445d7af2cc11e8cceb957bc66"
 },
 "nbformat": 3,
 "nbformat_minor": 0,
 "worksheets": [
  {
   "cells": [
    {
     "cell_type": "markdown",
     "metadata": {},
     "source": [
      "Linear Models\n",
      "==\n",
      "Linear models are widely used to help price securities and perform optimal portfolio allocation, among other useful things. \n",
      "\n",
      "One of the significance of linearity in financial modelling is its assurance that a problem terminates at a global optimal solution.\n",
      "\n",
      "Modules such as the **SciPy** and **NumPy** packages contain a variety of linear regression functions for data scientists to work with.\n",
      "\n",
      "In traditional portfolio management, the allocation of assets fllows a linear pattern, and investors have individual styles of investing. We can state the problem of portfolio allocation into a system of linear equations, containning either equalities or inequalities. These linear systems can then be represented in a matrix form as $Ax=B$, where $A$ is the known coefficients, $B$ is the observed result, and $x$ is the vector of values to find out. More often, $x$ contains the optimal security weights to maximize the agent's utility. Using matrix algebra, we can efficiently solve for $x$ using either direct or indirect methods."
     ]
    },
    {
     "cell_type": "markdown",
     "metadata": {},
     "source": [
      "# 1. Multivariate OLS\n",
      "\n",
      "Many Python packages such as **SciPy** come with several variants of regression functions. In particular, the **statsmodels** package is a complement to **SciPy** with descriptive statistics and estimation of statistical models. The official page for **statsmodels** is http://statsmodels.sourceforge.net/\n"
     ]
    },
    {
     "cell_type": "markdown",
     "metadata": {},
     "source": [
      "## Example - Perform OLS and view its summary\n",
      "\n",
      "Let's assume that you have implemented an APT model with seven factors that return the values of $Y$. Consider the following set of data collected over 9 time periods, from $t1$ to $t9$. $X1$ to $X7$ are exogenous variables observed at each period. The regression problem is therefore defined as:\n",
      "$$ Y = \\beta_1X_{1}+\\beta_2X_{2}+\\beta_3X_{3}+\\beta_4X_{4}+\\beta_5X_{5}+\\beta_6X_{6}+\\beta_7X_{7}+\\varepsilon $$"
     ]
    },
    {
     "cell_type": "code",
     "collapsed": false,
     "input": [
      "import numpy as np\n",
      "import statsmodels.api as sm\n",
      "\n",
      "# Generate some sample data\n",
      "num_periods = 9\n",
      "all_values = np.array([np.random.random(8) for i in range(num_periods)])\n",
      "\n",
      "# Filter the data\n",
      "y_values = all_values[:,0] # First column values as Y\n",
      "x_values = all_values[:, 1:] # All other values as X\n",
      "\n",
      "x_values = sm.add_constant(x_values, prepend=True) # Include the intercept\n",
      "\n",
      "# Fit OLS to the data\n",
      "results = sm.OLS(y_values, x_values).fit()\n",
      "print results.summary()\n",
      "\n",
      "# Use the params functions to display the coefficient vector\n",
      "print results.params"
     ],
     "language": "python",
     "metadata": {},
     "outputs": [
      {
       "output_type": "stream",
       "stream": "stdout",
       "text": [
        "                            OLS Regression Results                            \n",
        "==============================================================================\n",
        "Dep. Variable:                      y   R-squared:                       0.920\n",
        "Model:                            OLS   Adj. R-squared:                  0.362\n",
        "Method:                 Least Squares   F-statistic:                     1.649\n",
        "Date:                Mon, 22 Jun 2015   Prob (F-statistic):              0.538\n",
        "Time:                        16:52:15   Log-Likelihood:                 8.3993\n",
        "No. Observations:                   9   AIC:                           -0.7986\n",
        "Df Residuals:                       1   BIC:                            0.7792\n",
        "Df Model:                           7                                         \n",
        "==============================================================================\n",
        "                 coef    std err          t      P>|t|      [95.0% Conf. Int.]\n",
        "------------------------------------------------------------------------------\n",
        "const          1.1496      1.220      0.942      0.519       -14.351    16.650\n",
        "x1             0.4267      0.432      0.988      0.504        -5.060     5.914\n",
        "x2             0.2196      0.597      0.368      0.776        -7.363     7.802\n",
        "x3            -0.4699      0.780     -0.602      0.655       -10.387     9.447\n",
        "x4            -0.6033      0.737     -0.819      0.563        -9.966     8.759\n",
        "x5            -0.3214      0.668     -0.481      0.715        -8.815     8.172\n",
        "x6            -0.3223      0.955     -0.337      0.793       -12.462    11.817\n",
        "x7             0.0536      0.417      0.128      0.919        -5.251     5.358\n",
        "==============================================================================\n",
        "Omnibus:                        0.161   Durbin-Watson:                   1.722\n",
        "Prob(Omnibus):                  0.922   Jarque-Bera (JB):                0.307\n",
        "Skew:                           0.226   Prob(JB):                        0.858\n",
        "Kurtosis:                       2.216   Cond. No.                         32.1\n",
        "==============================================================================\n",
        "[ 1.14961703  0.42671518  0.21957392 -0.46992677 -0.60332114 -0.32136361\n",
        " -0.32226146  0.05359163]\n"
       ]
      }
     ],
     "prompt_number": 19
    },
    {
     "cell_type": "markdown",
     "metadata": {},
     "source": [
      "# 2. Linear Optimization\n",
      "\n",
      "Linear optimization focuses on minimizing or maximizing the value of the objective function. The examples are maximizing returns and minimizing volatility. These objectives are usually governed by certain regulations, such as no short-selling rule, limits on the number of securities to be invested, and so on.\n",
      "\n",
      "A number of packages provide optimization methods. The following example makes use of **PuLP**, an open source linear programming modeller."
     ]
    },
    {
     "cell_type": "markdown",
     "metadata": {},
     "source": [
      "## Example - Linear optimization problem\n",
      "Suppose that we are interested in investing in two securities, $x$ and $y$. We would like to find out the actual number of units to invest for every 3 units of security $x$ and 2 units of security $y$, such that the total number of units invested is maximized, where possible. However, there are certain constraints on our investment strategy:\n",
      "- For every 2 units of security $x$ invested and 1 unit of security $y$ invested, the total volume must not exceed 100.\n"
     ]
    },
    {
     "cell_type": "code",
     "collapsed": false,
     "input": [
      "import pulp"
     ],
     "language": "python",
     "metadata": {},
     "outputs": [],
     "prompt_number": 21
    }
   ],
   "metadata": {}
  }
 ]
}